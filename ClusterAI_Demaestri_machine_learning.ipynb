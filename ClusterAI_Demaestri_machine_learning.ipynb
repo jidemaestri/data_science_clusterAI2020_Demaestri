{
 "cells": [
  {
   "cell_type": "markdown",
   "metadata": {},
   "source": [
    "## Análisis de la Expansión del COVID-19 en la Ciudad de Buenos Aires\n",
    "<br> \n",
    "\n",
    "### Universidad Tecnológica Nacional - Reg. Buenos Aires\n",
    "<br>\n",
    "\n",
    "### Ingeniería Industrial - Ciencia de Datos (clusterAI)\n",
    "#### Noviembre, 2020\n",
    "<br>\n",
    "<br>\n",
    "\n",
    "#### Autores:\n",
    "<br>\n",
    "\n",
    "##### Demaestri, Juan Ignacio\n",
    "##### Gutiérrez, Manuel"
   ]
  },
  {
   "cell_type": "code",
   "execution_count": 1,
   "metadata": {},
   "outputs": [],
   "source": [
    "import numpy as np\n",
    "import pandas as pd\n",
    "import matplotlib.pyplot as plt\n",
    "import seaborn as sns\n"
   ]
  },
  {
   "cell_type": "code",
   "execution_count": 2,
   "metadata": {},
   "outputs": [],
   "source": [
    "geopandas_is_installed = False\n",
    "isFirst =True\n",
    "#install geopandas\n",
    "if (geopandas_is_installed == True) :\n",
    "    import geopandas as gps"
   ]
  },
  {
   "cell_type": "code",
   "execution_count": 3,
   "metadata": {},
   "outputs": [],
   "source": [
    "\n",
    "#Sklearn Tools\n",
    "from sklearn.preprocessing import StandardScaler\n",
    "from sklearn import preprocessing\n",
    "from sklearn.model_selection import train_test_split\n",
    "from sklearn.metrics import accuracy_score\n",
    "from sklearn.metrics import classification_report\n",
    "from sklearn.svm import SVR\n",
    "from sklearn.svm import LinearSVR\n",
    "from sklearn.neighbors import KNeighborsRegressor\n",
    "from sklearn.metrics import r2_score, mean_squared_error, mean_absolute_error\n",
    "from sklearn.neighbors import KNeighborsClassifier\n",
    "from sklearn.model_selection import GridSearchCV\n",
    "from sklearn.ensemble import RandomForestRegressor\n",
    "from sklearn.datasets import make_regression\n",
    "from sklearn.model_selection import cross_val_score\n",
    "from sklearn.metrics import roc_curve, auc\n",
    "from sklearn.linear_model import LinearRegression\n",
    "from sklearn.preprocessing import PolynomialFeatures\n",
    "from sklearn import metrics\n",
    "from sklearn.model_selection import GridSearchCV\n",
    "from sklearn.metrics import confusion_matrix\n",
    "from sklearn.svm import SVC\n",
    "from sklearn import svm\n",
    "from sklearn.neighbors import KNeighborsClassifier\n",
    "from sklearn.ensemble import RandomForestClassifier\n",
    "from sklearn.naive_bayes import GaussianNB\n",
    "from sklearn.metrics import r2_score, mean_squared_error, mean_absolute_error\n",
    "from sklearn.decomposition import PCA, KernelPCA\n",
    "from sklearn import decomposition\n",
    "from sklearn.utils import class_weight\n",
    "from sklearn.linear_model import LogisticRegression\n",
    "from sklearn.multiclass import OneVsRestClassifier, OneVsOneClassifier\n"
   ]
  },
  {
   "cell_type": "markdown",
   "metadata": {},
   "source": [
    "## Datasets"
   ]
  },
  {
   "cell_type": "code",
   "execution_count": 4,
   "metadata": {},
   "outputs": [
    {
     "name": "stderr",
     "output_type": "stream",
     "text": [
      "c:\\devapps\\python38\\lib\\site-packages\\IPython\\core\\interactiveshell.py:3145: DtypeWarning: Columns (10,11,13) have mixed types.Specify dtype option on import or set low_memory=False.\n",
      "  has_raised = await self.run_ast_nodes(code_ast.body, cell_name,\n"
     ]
    }
   ],
   "source": [
    "covid_df = pd.read_csv('datasets\\\\01_casos_covid19.csv')\n",
    "#Extracted from: https://datos.gob.ar/dataset/salud-covid-19-casos-registrados-republica-argentina\n",
    "#Last Update: 04/nov/2020\n"
   ]
  },
  {
   "cell_type": "code",
   "execution_count": 5,
   "metadata": {},
   "outputs": [
    {
     "data": {
      "text/plain": [
       "(680052, 14)"
      ]
     },
     "execution_count": 5,
     "metadata": {},
     "output_type": "execute_result"
    }
   ],
   "source": [
    "covid_df.shape"
   ]
  },
  {
   "cell_type": "code",
   "execution_count": 6,
   "metadata": {},
   "outputs": [],
   "source": [
    "barrios_caba_densidad  = pd.read_csv('datasets\\\\03_ba_censo_2010.csv')"
   ]
  },
  {
   "cell_type": "code",
   "execution_count": 7,
   "metadata": {},
   "outputs": [
    {
     "data": {
      "text/plain": [
       "(48, 7)"
      ]
     },
     "execution_count": 7,
     "metadata": {},
     "output_type": "execute_result"
    }
   ],
   "source": [
    "barrios_caba_densidad.shape"
   ]
  },
  {
   "cell_type": "code",
   "execution_count": 8,
   "metadata": {},
   "outputs": [],
   "source": [
    "clima_caba_df  = pd.read_csv('datasets\\\\05_MetereologiaCABA.csv')"
   ]
  },
  {
   "cell_type": "code",
   "execution_count": 9,
   "metadata": {},
   "outputs": [],
   "source": [
    "subte_caba_df  = pd.read_csv('datasets\\\\06_Subtes2020.csv', delimiter=\",\")"
   ]
  },
  {
   "cell_type": "markdown",
   "metadata": {},
   "source": [
    "## EDA - Exploratory Data Analysis"
   ]
  },
  {
   "cell_type": "markdown",
   "metadata": {},
   "source": [
    "###  (01) COVID Dataset"
   ]
  },
  {
   "cell_type": "code",
   "execution_count": 10,
   "metadata": {},
   "outputs": [],
   "source": [
    "# String to Datetime\n",
    "covid_df.fecha_clasificacion = pd.to_datetime(covid_df.fecha_clasificacion,format='%d%b%Y:%H:%M:%S.%f')\n",
    "covid_df.fecha_toma_muestra  = pd.to_datetime(covid_df.fecha_toma_muestra,format='%d%b%Y:%H:%M:%S.%f')\n",
    "covid_df.fecha_alta          = pd.to_datetime(covid_df.fecha_alta,format='%d%b%Y:%H:%M:%S.%f')"
   ]
  },
  {
   "cell_type": "code",
   "execution_count": 11,
   "metadata": {},
   "outputs": [],
   "source": [
    "#feature extraction - less important features\n",
    "covid_df = covid_df.iloc[:,[2,3,4,5,6,7,8,9,11,12]]"
   ]
  },
  {
   "cell_type": "code",
   "execution_count": 12,
   "metadata": {},
   "outputs": [],
   "source": [
    "#dataset filtration - Buenos Aires City\n",
    "covid_caba_df = covid_df[(covid_df.provincia == 'CABA') & (covid_df.clasificacion == 'confirmado')]"
   ]
  },
  {
   "cell_type": "code",
   "execution_count": 13,
   "metadata": {},
   "outputs": [
    {
     "data": {
      "text/plain": [
       "(143876, 10)"
      ]
     },
     "execution_count": 13,
     "metadata": {},
     "output_type": "execute_result"
    }
   ],
   "source": [
    "covid_caba_df.shape"
   ]
  },
  {
   "cell_type": "code",
   "execution_count": 14,
   "metadata": {},
   "outputs": [
    {
     "data": {
      "text/html": [
       "<div>\n",
       "<style scoped>\n",
       "    .dataframe tbody tr th:only-of-type {\n",
       "        vertical-align: middle;\n",
       "    }\n",
       "\n",
       "    .dataframe tbody tr th {\n",
       "        vertical-align: top;\n",
       "    }\n",
       "\n",
       "    .dataframe thead th {\n",
       "        text-align: right;\n",
       "    }\n",
       "</style>\n",
       "<table border=\"1\" class=\"dataframe\">\n",
       "  <thead>\n",
       "    <tr style=\"text-align: right;\">\n",
       "      <th></th>\n",
       "      <th>fecha_toma_muestra</th>\n",
       "      <th>fecha_clasificacion</th>\n",
       "      <th>provincia</th>\n",
       "      <th>barrio</th>\n",
       "      <th>comuna</th>\n",
       "      <th>genero</th>\n",
       "      <th>edad</th>\n",
       "      <th>clasificacion</th>\n",
       "      <th>fallecido</th>\n",
       "      <th>fecha_alta</th>\n",
       "    </tr>\n",
       "  </thead>\n",
       "  <tbody>\n",
       "    <tr>\n",
       "      <th>1</th>\n",
       "      <td>2020-08-20</td>\n",
       "      <td>2020-08-21</td>\n",
       "      <td>CABA</td>\n",
       "      <td>VILLA CRESPO</td>\n",
       "      <td>15.0</td>\n",
       "      <td>femenino</td>\n",
       "      <td>51.0</td>\n",
       "      <td>confirmado</td>\n",
       "      <td>NaN</td>\n",
       "      <td>NaT</td>\n",
       "    </tr>\n",
       "    <tr>\n",
       "      <th>2</th>\n",
       "      <td>2020-08-10</td>\n",
       "      <td>2020-08-10</td>\n",
       "      <td>CABA</td>\n",
       "      <td>COLEGIALES</td>\n",
       "      <td>13.0</td>\n",
       "      <td>masculino</td>\n",
       "      <td>59.0</td>\n",
       "      <td>confirmado</td>\n",
       "      <td>NaN</td>\n",
       "      <td>NaT</td>\n",
       "    </tr>\n",
       "    <tr>\n",
       "      <th>3</th>\n",
       "      <td>2020-08-18</td>\n",
       "      <td>2020-08-18</td>\n",
       "      <td>CABA</td>\n",
       "      <td>BARRACAS</td>\n",
       "      <td>4.0</td>\n",
       "      <td>femenino</td>\n",
       "      <td>41.0</td>\n",
       "      <td>confirmado</td>\n",
       "      <td>NaN</td>\n",
       "      <td>NaT</td>\n",
       "    </tr>\n",
       "    <tr>\n",
       "      <th>6</th>\n",
       "      <td>2020-08-18</td>\n",
       "      <td>2020-08-21</td>\n",
       "      <td>CABA</td>\n",
       "      <td>PALERMO</td>\n",
       "      <td>14.0</td>\n",
       "      <td>femenino</td>\n",
       "      <td>35.0</td>\n",
       "      <td>confirmado</td>\n",
       "      <td>NaN</td>\n",
       "      <td>NaT</td>\n",
       "    </tr>\n",
       "    <tr>\n",
       "      <th>7</th>\n",
       "      <td>2020-08-19</td>\n",
       "      <td>2020-08-20</td>\n",
       "      <td>CABA</td>\n",
       "      <td>MONSERRAT</td>\n",
       "      <td>1.0</td>\n",
       "      <td>masculino</td>\n",
       "      <td>50.0</td>\n",
       "      <td>confirmado</td>\n",
       "      <td>NaN</td>\n",
       "      <td>NaT</td>\n",
       "    </tr>\n",
       "  </tbody>\n",
       "</table>\n",
       "</div>"
      ],
      "text/plain": [
       "  fecha_toma_muestra fecha_clasificacion provincia        barrio  comuna  \\\n",
       "1         2020-08-20          2020-08-21      CABA  VILLA CRESPO    15.0   \n",
       "2         2020-08-10          2020-08-10      CABA    COLEGIALES    13.0   \n",
       "3         2020-08-18          2020-08-18      CABA      BARRACAS     4.0   \n",
       "6         2020-08-18          2020-08-21      CABA       PALERMO    14.0   \n",
       "7         2020-08-19          2020-08-20      CABA     MONSERRAT     1.0   \n",
       "\n",
       "      genero  edad clasificacion fallecido fecha_alta  \n",
       "1   femenino  51.0    confirmado       NaN        NaT  \n",
       "2  masculino  59.0    confirmado       NaN        NaT  \n",
       "3   femenino  41.0    confirmado       NaN        NaT  \n",
       "6   femenino  35.0    confirmado       NaN        NaT  \n",
       "7  masculino  50.0    confirmado       NaN        NaT  "
      ]
     },
     "execution_count": 14,
     "metadata": {},
     "output_type": "execute_result"
    }
   ],
   "source": [
    "covid_caba_df.head(5)"
   ]
  },
  {
   "cell_type": "markdown",
   "metadata": {},
   "source": [
    "### (03) Dataset CABA densidad"
   ]
  },
  {
   "cell_type": "code",
   "execution_count": 15,
   "metadata": {},
   "outputs": [],
   "source": [
    "group_covidBybarrio_df = covid_caba_df.groupby([\"barrio\"])[\"barrio\"].count().reset_index(name='casos')\n",
    "group_covidBybarrio_df = group_covidBybarrio_df.sort_values(by=\"casos\", ascending=False)"
   ]
  },
  {
   "cell_type": "code",
   "execution_count": 16,
   "metadata": {},
   "outputs": [],
   "source": [
    "barrios_covid_densidad = barrios_caba_densidad.merge(group_covidBybarrio_df, left_on='barrio', right_on='barrio')\n"
   ]
  },
  {
   "cell_type": "code",
   "execution_count": 17,
   "metadata": {},
   "outputs": [],
   "source": [
    "barrios_covid_densidad['densidad_covid'] = (barrios_covid_densidad.casos / barrios_covid_densidad.superficie)"
   ]
  },
  {
   "cell_type": "code",
   "execution_count": 18,
   "metadata": {},
   "outputs": [],
   "source": [
    "barrios_covid_densidad = barrios_covid_densidad.sort_values(by=['densidad_covid'], ascending=False)"
   ]
  },
  {
   "cell_type": "code",
   "execution_count": 19,
   "metadata": {},
   "outputs": [],
   "source": [
    "filter_covid_densidad = barrios_covid_densidad.iloc[:,[1,6,8]]"
   ]
  },
  {
   "cell_type": "code",
   "execution_count": 20,
   "metadata": {},
   "outputs": [],
   "source": [
    "barrios_caba_densidad = barrios_caba_densidad.sort_values(by=['densidad_pobacional'], ascending=False)"
   ]
  },
  {
   "cell_type": "markdown",
   "metadata": {},
   "source": [
    "### (05) Dataset Clima CABA"
   ]
  },
  {
   "cell_type": "code",
   "execution_count": 21,
   "metadata": {},
   "outputs": [],
   "source": [
    "# Convierto tipo de dato string a datetime\n",
    "clima_caba_df.Fecha = pd.to_datetime(clima_caba_df.Fecha,format='%d/%m/%Y')"
   ]
  },
  {
   "cell_type": "markdown",
   "metadata": {},
   "source": [
    "## Dataset Subte"
   ]
  },
  {
   "cell_type": "code",
   "execution_count": 22,
   "metadata": {},
   "outputs": [
    {
     "data": {
      "text/html": [
       "<div>\n",
       "<style scoped>\n",
       "    .dataframe tbody tr th:only-of-type {\n",
       "        vertical-align: middle;\n",
       "    }\n",
       "\n",
       "    .dataframe tbody tr th {\n",
       "        vertical-align: top;\n",
       "    }\n",
       "\n",
       "    .dataframe thead th {\n",
       "        text-align: right;\n",
       "    }\n",
       "</style>\n",
       "<table border=\"1\" class=\"dataframe\">\n",
       "  <thead>\n",
       "    <tr style=\"text-align: right;\">\n",
       "      <th></th>\n",
       "      <th>FECHA</th>\n",
       "      <th>DESDE</th>\n",
       "      <th>HASTA</th>\n",
       "      <th>LINEA</th>\n",
       "      <th>MOLINETE</th>\n",
       "      <th>ESTACION</th>\n",
       "      <th>pax_pagos</th>\n",
       "      <th>pax_pases_pagos</th>\n",
       "      <th>pax_franq</th>\n",
       "      <th>pax_TOTAL</th>\n",
       "    </tr>\n",
       "  </thead>\n",
       "  <tbody>\n",
       "    <tr>\n",
       "      <th>4589766</th>\n",
       "      <td>9/30/2020</td>\n",
       "      <td>23:00:00</td>\n",
       "      <td>23:15:00</td>\n",
       "      <td>LineaA</td>\n",
       "      <td>LineaA_SanPedrito_Este_Turn01</td>\n",
       "      <td>San Pedrito</td>\n",
       "      <td>0.0</td>\n",
       "      <td>0.0</td>\n",
       "      <td>1.0</td>\n",
       "      <td>1.0</td>\n",
       "    </tr>\n",
       "    <tr>\n",
       "      <th>4589767</th>\n",
       "      <td>9/30/2020</td>\n",
       "      <td>23:00:00</td>\n",
       "      <td>23:15:00</td>\n",
       "      <td>LineaD</td>\n",
       "      <td>LineaD_Palermo_Turn06</td>\n",
       "      <td>Palermo</td>\n",
       "      <td>0.0</td>\n",
       "      <td>0.0</td>\n",
       "      <td>1.0</td>\n",
       "      <td>1.0</td>\n",
       "    </tr>\n",
       "    <tr>\n",
       "      <th>4589768</th>\n",
       "      <td>9/30/2020</td>\n",
       "      <td>23:15:00</td>\n",
       "      <td>23:30:00</td>\n",
       "      <td>LineaD</td>\n",
       "      <td>LineaD_Bulnes_N_Turn01</td>\n",
       "      <td>Bulnes</td>\n",
       "      <td>0.0</td>\n",
       "      <td>0.0</td>\n",
       "      <td>2.0</td>\n",
       "      <td>2.0</td>\n",
       "    </tr>\n",
       "    <tr>\n",
       "      <th>4589769</th>\n",
       "      <td>9/30/2020</td>\n",
       "      <td>23:15:00</td>\n",
       "      <td>23:30:00</td>\n",
       "      <td>LineaE</td>\n",
       "      <td>LineaE_RetiroE_S_Turn01</td>\n",
       "      <td>Retiro E</td>\n",
       "      <td>0.0</td>\n",
       "      <td>0.0</td>\n",
       "      <td>1.0</td>\n",
       "      <td>1.0</td>\n",
       "    </tr>\n",
       "    <tr>\n",
       "      <th>4589770</th>\n",
       "      <td>9/30/2020</td>\n",
       "      <td>23:30:00</td>\n",
       "      <td>23:45:00</td>\n",
       "      <td>LineaD</td>\n",
       "      <td>LineaD_Pueyrredon_Turn02</td>\n",
       "      <td>Pueyrredon.D</td>\n",
       "      <td>0.0</td>\n",
       "      <td>0.0</td>\n",
       "      <td>1.0</td>\n",
       "      <td>1.0</td>\n",
       "    </tr>\n",
       "  </tbody>\n",
       "</table>\n",
       "</div>"
      ],
      "text/plain": [
       "             FECHA     DESDE     HASTA   LINEA                       MOLINETE  \\\n",
       "4589766  9/30/2020  23:00:00  23:15:00  LineaA  LineaA_SanPedrito_Este_Turn01   \n",
       "4589767  9/30/2020  23:00:00  23:15:00  LineaD          LineaD_Palermo_Turn06   \n",
       "4589768  9/30/2020  23:15:00  23:30:00  LineaD         LineaD_Bulnes_N_Turn01   \n",
       "4589769  9/30/2020  23:15:00  23:30:00  LineaE        LineaE_RetiroE_S_Turn01   \n",
       "4589770  9/30/2020  23:30:00  23:45:00  LineaD       LineaD_Pueyrredon_Turn02   \n",
       "\n",
       "             ESTACION  pax_pagos  pax_pases_pagos  pax_franq  pax_TOTAL  \n",
       "4589766   San Pedrito        0.0              0.0        1.0        1.0  \n",
       "4589767       Palermo        0.0              0.0        1.0        1.0  \n",
       "4589768        Bulnes        0.0              0.0        2.0        2.0  \n",
       "4589769      Retiro E        0.0              0.0        1.0        1.0  \n",
       "4589770  Pueyrredon.D        0.0              0.0        1.0        1.0  "
      ]
     },
     "execution_count": 22,
     "metadata": {},
     "output_type": "execute_result"
    }
   ],
   "source": [
    "subte_caba_df.tail(5)\n",
    "\n",
    "#format mm/dd/YYYY"
   ]
  },
  {
   "cell_type": "code",
   "execution_count": 23,
   "metadata": {},
   "outputs": [],
   "source": [
    "subte_caba_df[\"FECHA\"] = pd.to_datetime(subte_caba_df[\"FECHA\"], dayfirst=False )\n",
    "subte_caba_df = subte_caba_df[[\"FECHA\", \"pax_TOTAL\"]].groupby(\"FECHA\").sum()"
   ]
  },
  {
   "cell_type": "code",
   "execution_count": 24,
   "metadata": {},
   "outputs": [
    {
     "name": "stdout",
     "output_type": "stream",
     "text": [
      "<class 'pandas.core.frame.DataFrame'>\n",
      "DatetimeIndex: 260 entries, 2020-01-01 to 2020-12-02\n",
      "Data columns (total 2 columns):\n",
      " #   Column     Non-Null Count  Dtype         \n",
      "---  ------     --------------  -----         \n",
      " 0   pax_TOTAL  260 non-null    float64       \n",
      " 1   FECHA      260 non-null    datetime64[ns]\n",
      "dtypes: datetime64[ns](1), float64(1)\n",
      "memory usage: 6.1 KB\n"
     ]
    }
   ],
   "source": [
    "subte_caba_df[\"FECHA\"]=subte_caba_df.index\n",
    "subte_caba_df.info()\n",
    "\n"
   ]
  },
  {
   "cell_type": "code",
   "execution_count": 25,
   "metadata": {},
   "outputs": [],
   "source": [
    "subte_caba_df[\"FECHA\"] = pd.to_datetime(subte_caba_df[\"FECHA\"], dayfirst=False )\n"
   ]
  },
  {
   "cell_type": "markdown",
   "metadata": {},
   "source": [
    "### Pre Proccesing"
   ]
  },
  {
   "cell_type": "code",
   "execution_count": 26,
   "metadata": {},
   "outputs": [
    {
     "data": {
      "text/plain": [
       "(140172, 11)"
      ]
     },
     "execution_count": 26,
     "metadata": {},
     "output_type": "execute_result"
    }
   ],
   "source": [
    "covid_caba_clean = covid_caba_df[['fecha_toma_muestra', 'barrio', 'genero', 'edad', 'clasificacion']]\n",
    "covid_caba_clean = covid_caba_clean.merge(barrios_caba_densidad, on=\"barrio\", how=\"inner\")\n",
    "covid_caba_clean.head(3)\n",
    "covid_caba_clean.shape\n"
   ]
  },
  {
   "cell_type": "code",
   "execution_count": 27,
   "metadata": {},
   "outputs": [
    {
     "name": "stdout",
     "output_type": "stream",
     "text": [
      "<class 'pandas.core.frame.DataFrame'>\n",
      "Int64Index: 139865 entries, 0 to 139864\n",
      "Data columns (total 21 columns):\n",
      " #   Column               Non-Null Count   Dtype         \n",
      "---  ------               --------------   -----         \n",
      " 0   fecha_toma_muestra   139865 non-null  datetime64[ns]\n",
      " 1   barrio               139865 non-null  object        \n",
      " 2   genero               139865 non-null  object        \n",
      " 3   edad                 139830 non-null  float64       \n",
      " 4   clasificacion        139865 non-null  object        \n",
      " 5   comuna               139865 non-null  object        \n",
      " 6   habitantes           139865 non-null  int64         \n",
      " 7   mujer                139865 non-null  int64         \n",
      " 8   varon                139865 non-null  int64         \n",
      " 9   superficie           139865 non-null  float64       \n",
      " 10  densidad_pobacional  139865 non-null  float64       \n",
      " 11  Fecha                139865 non-null  datetime64[ns]\n",
      " 12  tMax                 139865 non-null  float64       \n",
      " 13  tMin                 139865 non-null  float64       \n",
      " 14  tProm                139865 non-null  float64       \n",
      " 15  Humedad              139865 non-null  int64         \n",
      " 16  vVel                 139865 non-null  int64         \n",
      " 17  vDir                 139865 non-null  object        \n",
      " 18  pMax                 139865 non-null  float64       \n",
      " 19  pMin                 139865 non-null  float64       \n",
      " 20  pProm                139865 non-null  float64       \n",
      "dtypes: datetime64[ns](2), float64(9), int64(5), object(5)\n",
      "memory usage: 23.5+ MB\n"
     ]
    },
    {
     "data": {
      "text/plain": [
       "array(['confirmado'], dtype=object)"
      ]
     },
     "execution_count": 27,
     "metadata": {},
     "output_type": "execute_result"
    }
   ],
   "source": [
    "covid_caba_clean = covid_caba_clean.merge(clima_caba_df, left_on=\"fecha_toma_muestra\", right_on=\"Fecha\", how=\"inner\")\n",
    "covid_caba_clean.info()\n",
    "\n",
    "covid_caba_clean.clasificacion.unique()"
   ]
  },
  {
   "cell_type": "code",
   "execution_count": 28,
   "metadata": {},
   "outputs": [
    {
     "data": {
      "text/html": [
       "<div>\n",
       "<style scoped>\n",
       "    .dataframe tbody tr th:only-of-type {\n",
       "        vertical-align: middle;\n",
       "    }\n",
       "\n",
       "    .dataframe tbody tr th {\n",
       "        vertical-align: top;\n",
       "    }\n",
       "\n",
       "    .dataframe thead th {\n",
       "        text-align: right;\n",
       "    }\n",
       "</style>\n",
       "<table border=\"1\" class=\"dataframe\">\n",
       "  <thead>\n",
       "    <tr style=\"text-align: right;\">\n",
       "      <th></th>\n",
       "      <th>fecha_toma_muestra</th>\n",
       "      <th>barrio</th>\n",
       "      <th>genero</th>\n",
       "      <th>edad</th>\n",
       "      <th>clasificacion</th>\n",
       "      <th>comuna</th>\n",
       "      <th>habitantes</th>\n",
       "      <th>mujer</th>\n",
       "      <th>varon</th>\n",
       "      <th>superficie</th>\n",
       "      <th>...</th>\n",
       "      <th>tMin</th>\n",
       "      <th>tProm</th>\n",
       "      <th>Humedad</th>\n",
       "      <th>vVel</th>\n",
       "      <th>vDir</th>\n",
       "      <th>pMax</th>\n",
       "      <th>pMin</th>\n",
       "      <th>pProm</th>\n",
       "      <th>pax_TOTAL</th>\n",
       "      <th>FECHA</th>\n",
       "    </tr>\n",
       "  </thead>\n",
       "  <tbody>\n",
       "    <tr>\n",
       "      <th>0</th>\n",
       "      <td>2020-08-20</td>\n",
       "      <td>VILLA CRESPO</td>\n",
       "      <td>femenino</td>\n",
       "      <td>51.0</td>\n",
       "      <td>confirmado</td>\n",
       "      <td>Comuna 15</td>\n",
       "      <td>81959</td>\n",
       "      <td>44757</td>\n",
       "      <td>37202</td>\n",
       "      <td>3.61</td>\n",
       "      <td>...</td>\n",
       "      <td>0.8</td>\n",
       "      <td>7.3</td>\n",
       "      <td>58</td>\n",
       "      <td>35</td>\n",
       "      <td>Calma</td>\n",
       "      <td>1028.2</td>\n",
       "      <td>1031.8</td>\n",
       "      <td>1030.0</td>\n",
       "      <td>69640.0</td>\n",
       "      <td>2020-08-20</td>\n",
       "    </tr>\n",
       "    <tr>\n",
       "      <th>1</th>\n",
       "      <td>2020-08-20</td>\n",
       "      <td>VILLA CRESPO</td>\n",
       "      <td>femenino</td>\n",
       "      <td>46.0</td>\n",
       "      <td>confirmado</td>\n",
       "      <td>Comuna 15</td>\n",
       "      <td>81959</td>\n",
       "      <td>44757</td>\n",
       "      <td>37202</td>\n",
       "      <td>3.61</td>\n",
       "      <td>...</td>\n",
       "      <td>0.8</td>\n",
       "      <td>7.3</td>\n",
       "      <td>58</td>\n",
       "      <td>35</td>\n",
       "      <td>Calma</td>\n",
       "      <td>1028.2</td>\n",
       "      <td>1031.8</td>\n",
       "      <td>1030.0</td>\n",
       "      <td>69640.0</td>\n",
       "      <td>2020-08-20</td>\n",
       "    </tr>\n",
       "    <tr>\n",
       "      <th>2</th>\n",
       "      <td>2020-08-20</td>\n",
       "      <td>VILLA CRESPO</td>\n",
       "      <td>masculino</td>\n",
       "      <td>36.0</td>\n",
       "      <td>confirmado</td>\n",
       "      <td>Comuna 15</td>\n",
       "      <td>81959</td>\n",
       "      <td>44757</td>\n",
       "      <td>37202</td>\n",
       "      <td>3.61</td>\n",
       "      <td>...</td>\n",
       "      <td>0.8</td>\n",
       "      <td>7.3</td>\n",
       "      <td>58</td>\n",
       "      <td>35</td>\n",
       "      <td>Calma</td>\n",
       "      <td>1028.2</td>\n",
       "      <td>1031.8</td>\n",
       "      <td>1030.0</td>\n",
       "      <td>69640.0</td>\n",
       "      <td>2020-08-20</td>\n",
       "    </tr>\n",
       "    <tr>\n",
       "      <th>3</th>\n",
       "      <td>2020-08-20</td>\n",
       "      <td>VILLA CRESPO</td>\n",
       "      <td>femenino</td>\n",
       "      <td>31.0</td>\n",
       "      <td>confirmado</td>\n",
       "      <td>Comuna 15</td>\n",
       "      <td>81959</td>\n",
       "      <td>44757</td>\n",
       "      <td>37202</td>\n",
       "      <td>3.61</td>\n",
       "      <td>...</td>\n",
       "      <td>0.8</td>\n",
       "      <td>7.3</td>\n",
       "      <td>58</td>\n",
       "      <td>35</td>\n",
       "      <td>Calma</td>\n",
       "      <td>1028.2</td>\n",
       "      <td>1031.8</td>\n",
       "      <td>1030.0</td>\n",
       "      <td>69640.0</td>\n",
       "      <td>2020-08-20</td>\n",
       "    </tr>\n",
       "    <tr>\n",
       "      <th>4</th>\n",
       "      <td>2020-08-20</td>\n",
       "      <td>VILLA CRESPO</td>\n",
       "      <td>femenino</td>\n",
       "      <td>39.0</td>\n",
       "      <td>confirmado</td>\n",
       "      <td>Comuna 15</td>\n",
       "      <td>81959</td>\n",
       "      <td>44757</td>\n",
       "      <td>37202</td>\n",
       "      <td>3.61</td>\n",
       "      <td>...</td>\n",
       "      <td>0.8</td>\n",
       "      <td>7.3</td>\n",
       "      <td>58</td>\n",
       "      <td>35</td>\n",
       "      <td>Calma</td>\n",
       "      <td>1028.2</td>\n",
       "      <td>1031.8</td>\n",
       "      <td>1030.0</td>\n",
       "      <td>69640.0</td>\n",
       "      <td>2020-08-20</td>\n",
       "    </tr>\n",
       "  </tbody>\n",
       "</table>\n",
       "<p>5 rows × 23 columns</p>\n",
       "</div>"
      ],
      "text/plain": [
       "  fecha_toma_muestra        barrio     genero  edad clasificacion     comuna  \\\n",
       "0         2020-08-20  VILLA CRESPO   femenino  51.0    confirmado  Comuna 15   \n",
       "1         2020-08-20  VILLA CRESPO   femenino  46.0    confirmado  Comuna 15   \n",
       "2         2020-08-20  VILLA CRESPO  masculino  36.0    confirmado  Comuna 15   \n",
       "3         2020-08-20  VILLA CRESPO   femenino  31.0    confirmado  Comuna 15   \n",
       "4         2020-08-20  VILLA CRESPO   femenino  39.0    confirmado  Comuna 15   \n",
       "\n",
       "   habitantes  mujer  varon  superficie  ...  tMin tProm  Humedad  vVel  \\\n",
       "0       81959  44757  37202        3.61  ...   0.8   7.3       58    35   \n",
       "1       81959  44757  37202        3.61  ...   0.8   7.3       58    35   \n",
       "2       81959  44757  37202        3.61  ...   0.8   7.3       58    35   \n",
       "3       81959  44757  37202        3.61  ...   0.8   7.3       58    35   \n",
       "4       81959  44757  37202        3.61  ...   0.8   7.3       58    35   \n",
       "\n",
       "    vDir    pMax    pMin   pProm  pax_TOTAL      FECHA  \n",
       "0  Calma  1028.2  1031.8  1030.0    69640.0 2020-08-20  \n",
       "1  Calma  1028.2  1031.8  1030.0    69640.0 2020-08-20  \n",
       "2  Calma  1028.2  1031.8  1030.0    69640.0 2020-08-20  \n",
       "3  Calma  1028.2  1031.8  1030.0    69640.0 2020-08-20  \n",
       "4  Calma  1028.2  1031.8  1030.0    69640.0 2020-08-20  \n",
       "\n",
       "[5 rows x 23 columns]"
      ]
     },
     "execution_count": 28,
     "metadata": {},
     "output_type": "execute_result"
    }
   ],
   "source": [
    "#BORRO la parte subtes\n",
    "covid_caba_clean = covid_caba_clean.merge(subte_caba_df, left_on=\"fecha_toma_muestra\", right_on=subte_caba_df[\"FECHA\"], how=\"inner\")\n",
    "covid_caba_clean.head(5)\n"
   ]
  },
  {
   "cell_type": "code",
   "execution_count": 29,
   "metadata": {},
   "outputs": [
    {
     "data": {
      "text/plain": [
       "(126985, 23)"
      ]
     },
     "execution_count": 29,
     "metadata": {},
     "output_type": "execute_result"
    }
   ],
   "source": [
    "covid_caba_clean = covid_caba_clean.sort_values(by=\"fecha_toma_muestra\", ascending=True)\n",
    "covid_caba_clean.shape"
   ]
  },
  {
   "cell_type": "code",
   "execution_count": 30,
   "metadata": {},
   "outputs": [],
   "source": [
    "caba_genero_dummie = pd.get_dummies(covid_caba_clean.genero)\n",
    "caba_clasificacion_dummie = pd.get_dummies(covid_caba_clean.clasificacion)\n"
   ]
  },
  {
   "cell_type": "code",
   "execution_count": 31,
   "metadata": {},
   "outputs": [
    {
     "data": {
      "text/html": [
       "<div>\n",
       "<style scoped>\n",
       "    .dataframe tbody tr th:only-of-type {\n",
       "        vertical-align: middle;\n",
       "    }\n",
       "\n",
       "    .dataframe tbody tr th {\n",
       "        vertical-align: top;\n",
       "    }\n",
       "\n",
       "    .dataframe thead th {\n",
       "        text-align: right;\n",
       "    }\n",
       "</style>\n",
       "<table border=\"1\" class=\"dataframe\">\n",
       "  <thead>\n",
       "    <tr style=\"text-align: right;\">\n",
       "      <th></th>\n",
       "      <th>fecha_toma_muestra</th>\n",
       "      <th>barrio</th>\n",
       "      <th>genero</th>\n",
       "      <th>edad</th>\n",
       "      <th>clasificacion</th>\n",
       "      <th>comuna</th>\n",
       "      <th>habitantes</th>\n",
       "      <th>mujer</th>\n",
       "      <th>varon</th>\n",
       "      <th>superficie</th>\n",
       "      <th>...</th>\n",
       "      <th>tMin</th>\n",
       "      <th>tProm</th>\n",
       "      <th>Humedad</th>\n",
       "      <th>vVel</th>\n",
       "      <th>vDir</th>\n",
       "      <th>pMax</th>\n",
       "      <th>pMin</th>\n",
       "      <th>pProm</th>\n",
       "      <th>pax_TOTAL</th>\n",
       "      <th>FECHA</th>\n",
       "    </tr>\n",
       "  </thead>\n",
       "  <tbody>\n",
       "    <tr>\n",
       "      <th>126936</th>\n",
       "      <td>2020-02-16</td>\n",
       "      <td>VILLA URQUIZA</td>\n",
       "      <td>femenino</td>\n",
       "      <td>33.0</td>\n",
       "      <td>confirmado</td>\n",
       "      <td>Comuna 12</td>\n",
       "      <td>91563</td>\n",
       "      <td>49384</td>\n",
       "      <td>42179</td>\n",
       "      <td>5.45</td>\n",
       "      <td>...</td>\n",
       "      <td>23.3</td>\n",
       "      <td>28.45</td>\n",
       "      <td>73</td>\n",
       "      <td>57</td>\n",
       "      <td>Calma</td>\n",
       "      <td>1002.5</td>\n",
       "      <td>1007.5</td>\n",
       "      <td>1005.00</td>\n",
       "      <td>207806.0</td>\n",
       "      <td>2020-02-16</td>\n",
       "    </tr>\n",
       "    <tr>\n",
       "      <th>126984</th>\n",
       "      <td>2020-03-01</td>\n",
       "      <td>PUERTO MADERO</td>\n",
       "      <td>masculino</td>\n",
       "      <td>43.0</td>\n",
       "      <td>confirmado</td>\n",
       "      <td>Comuna 1</td>\n",
       "      <td>6726</td>\n",
       "      <td>3115</td>\n",
       "      <td>3611</td>\n",
       "      <td>5.03</td>\n",
       "      <td>...</td>\n",
       "      <td>21.1</td>\n",
       "      <td>27.35</td>\n",
       "      <td>67</td>\n",
       "      <td>21</td>\n",
       "      <td>Calma</td>\n",
       "      <td>1016.5</td>\n",
       "      <td>1019.5</td>\n",
       "      <td>1018.00</td>\n",
       "      <td>1186969.0</td>\n",
       "      <td>2020-03-01</td>\n",
       "    </tr>\n",
       "    <tr>\n",
       "      <th>126983</th>\n",
       "      <td>2020-03-03</td>\n",
       "      <td>SAN CRISTOBAL</td>\n",
       "      <td>masculino</td>\n",
       "      <td>47.0</td>\n",
       "      <td>confirmado</td>\n",
       "      <td>Comuna 3</td>\n",
       "      <td>48611</td>\n",
       "      <td>26283</td>\n",
       "      <td>22328</td>\n",
       "      <td>2.04</td>\n",
       "      <td>...</td>\n",
       "      <td>22.5</td>\n",
       "      <td>27.15</td>\n",
       "      <td>70</td>\n",
       "      <td>30</td>\n",
       "      <td>Norte</td>\n",
       "      <td>1013.4</td>\n",
       "      <td>1017.0</td>\n",
       "      <td>1015.20</td>\n",
       "      <td>1118806.0</td>\n",
       "      <td>2020-03-03</td>\n",
       "    </tr>\n",
       "    <tr>\n",
       "      <th>126982</th>\n",
       "      <td>2020-03-04</td>\n",
       "      <td>VILLA DEL PARQUE</td>\n",
       "      <td>masculino</td>\n",
       "      <td>68.0</td>\n",
       "      <td>confirmado</td>\n",
       "      <td>Comuna 11</td>\n",
       "      <td>55273</td>\n",
       "      <td>30213</td>\n",
       "      <td>25060</td>\n",
       "      <td>3.40</td>\n",
       "      <td>...</td>\n",
       "      <td>21.0</td>\n",
       "      <td>26.60</td>\n",
       "      <td>70</td>\n",
       "      <td>20</td>\n",
       "      <td>Calma</td>\n",
       "      <td>1014.4</td>\n",
       "      <td>1016.7</td>\n",
       "      <td>1015.55</td>\n",
       "      <td>1135479.0</td>\n",
       "      <td>2020-03-04</td>\n",
       "    </tr>\n",
       "    <tr>\n",
       "      <th>126980</th>\n",
       "      <td>2020-03-05</td>\n",
       "      <td>BOEDO</td>\n",
       "      <td>masculino</td>\n",
       "      <td>45.0</td>\n",
       "      <td>confirmado</td>\n",
       "      <td>Comuna 5</td>\n",
       "      <td>47306</td>\n",
       "      <td>25371</td>\n",
       "      <td>21935</td>\n",
       "      <td>2.61</td>\n",
       "      <td>...</td>\n",
       "      <td>21.6</td>\n",
       "      <td>25.60</td>\n",
       "      <td>70</td>\n",
       "      <td>24</td>\n",
       "      <td>Norte</td>\n",
       "      <td>1015.1</td>\n",
       "      <td>1018.9</td>\n",
       "      <td>1017.00</td>\n",
       "      <td>1164013.0</td>\n",
       "      <td>2020-03-05</td>\n",
       "    </tr>\n",
       "    <tr>\n",
       "      <th>...</th>\n",
       "      <td>...</td>\n",
       "      <td>...</td>\n",
       "      <td>...</td>\n",
       "      <td>...</td>\n",
       "      <td>...</td>\n",
       "      <td>...</td>\n",
       "      <td>...</td>\n",
       "      <td>...</td>\n",
       "      <td>...</td>\n",
       "      <td>...</td>\n",
       "      <td>...</td>\n",
       "      <td>...</td>\n",
       "      <td>...</td>\n",
       "      <td>...</td>\n",
       "      <td>...</td>\n",
       "      <td>...</td>\n",
       "      <td>...</td>\n",
       "      <td>...</td>\n",
       "      <td>...</td>\n",
       "      <td>...</td>\n",
       "      <td>...</td>\n",
       "    </tr>\n",
       "    <tr>\n",
       "      <th>73119</th>\n",
       "      <td>2020-10-02</td>\n",
       "      <td>RECOLETA</td>\n",
       "      <td>masculino</td>\n",
       "      <td>55.0</td>\n",
       "      <td>confirmado</td>\n",
       "      <td>Comuna 2</td>\n",
       "      <td>157932</td>\n",
       "      <td>89890</td>\n",
       "      <td>68042</td>\n",
       "      <td>6.29</td>\n",
       "      <td>...</td>\n",
       "      <td>7.5</td>\n",
       "      <td>11.95</td>\n",
       "      <td>66</td>\n",
       "      <td>44</td>\n",
       "      <td>Este</td>\n",
       "      <td>1014.1</td>\n",
       "      <td>1028.9</td>\n",
       "      <td>1021.50</td>\n",
       "      <td>1035204.0</td>\n",
       "      <td>2020-10-02</td>\n",
       "    </tr>\n",
       "    <tr>\n",
       "      <th>73120</th>\n",
       "      <td>2020-10-02</td>\n",
       "      <td>RECOLETA</td>\n",
       "      <td>masculino</td>\n",
       "      <td>23.0</td>\n",
       "      <td>confirmado</td>\n",
       "      <td>Comuna 2</td>\n",
       "      <td>157932</td>\n",
       "      <td>89890</td>\n",
       "      <td>68042</td>\n",
       "      <td>6.29</td>\n",
       "      <td>...</td>\n",
       "      <td>7.5</td>\n",
       "      <td>11.95</td>\n",
       "      <td>66</td>\n",
       "      <td>44</td>\n",
       "      <td>Este</td>\n",
       "      <td>1014.1</td>\n",
       "      <td>1028.9</td>\n",
       "      <td>1021.50</td>\n",
       "      <td>1035204.0</td>\n",
       "      <td>2020-10-02</td>\n",
       "    </tr>\n",
       "    <tr>\n",
       "      <th>73121</th>\n",
       "      <td>2020-10-02</td>\n",
       "      <td>RECOLETA</td>\n",
       "      <td>masculino</td>\n",
       "      <td>64.0</td>\n",
       "      <td>confirmado</td>\n",
       "      <td>Comuna 2</td>\n",
       "      <td>157932</td>\n",
       "      <td>89890</td>\n",
       "      <td>68042</td>\n",
       "      <td>6.29</td>\n",
       "      <td>...</td>\n",
       "      <td>7.5</td>\n",
       "      <td>11.95</td>\n",
       "      <td>66</td>\n",
       "      <td>44</td>\n",
       "      <td>Este</td>\n",
       "      <td>1014.1</td>\n",
       "      <td>1028.9</td>\n",
       "      <td>1021.50</td>\n",
       "      <td>1035204.0</td>\n",
       "      <td>2020-10-02</td>\n",
       "    </tr>\n",
       "    <tr>\n",
       "      <th>73110</th>\n",
       "      <td>2020-10-02</td>\n",
       "      <td>FLORES</td>\n",
       "      <td>masculino</td>\n",
       "      <td>60.0</td>\n",
       "      <td>confirmado</td>\n",
       "      <td>Comuna 7</td>\n",
       "      <td>164310</td>\n",
       "      <td>87984</td>\n",
       "      <td>76326</td>\n",
       "      <td>8.59</td>\n",
       "      <td>...</td>\n",
       "      <td>7.5</td>\n",
       "      <td>11.95</td>\n",
       "      <td>66</td>\n",
       "      <td>44</td>\n",
       "      <td>Este</td>\n",
       "      <td>1014.1</td>\n",
       "      <td>1028.9</td>\n",
       "      <td>1021.50</td>\n",
       "      <td>1035204.0</td>\n",
       "      <td>2020-10-02</td>\n",
       "    </tr>\n",
       "    <tr>\n",
       "      <th>73701</th>\n",
       "      <td>2020-10-02</td>\n",
       "      <td>COGHLAN</td>\n",
       "      <td>femenino</td>\n",
       "      <td>59.0</td>\n",
       "      <td>confirmado</td>\n",
       "      <td>Comuna 12</td>\n",
       "      <td>18604</td>\n",
       "      <td>9997</td>\n",
       "      <td>8607</td>\n",
       "      <td>1.28</td>\n",
       "      <td>...</td>\n",
       "      <td>7.5</td>\n",
       "      <td>11.95</td>\n",
       "      <td>66</td>\n",
       "      <td>44</td>\n",
       "      <td>Este</td>\n",
       "      <td>1014.1</td>\n",
       "      <td>1028.9</td>\n",
       "      <td>1021.50</td>\n",
       "      <td>1035204.0</td>\n",
       "      <td>2020-10-02</td>\n",
       "    </tr>\n",
       "  </tbody>\n",
       "</table>\n",
       "<p>126985 rows × 23 columns</p>\n",
       "</div>"
      ],
      "text/plain": [
       "       fecha_toma_muestra            barrio     genero  edad clasificacion  \\\n",
       "126936         2020-02-16     VILLA URQUIZA   femenino  33.0    confirmado   \n",
       "126984         2020-03-01     PUERTO MADERO  masculino  43.0    confirmado   \n",
       "126983         2020-03-03     SAN CRISTOBAL  masculino  47.0    confirmado   \n",
       "126982         2020-03-04  VILLA DEL PARQUE  masculino  68.0    confirmado   \n",
       "126980         2020-03-05             BOEDO  masculino  45.0    confirmado   \n",
       "...                   ...               ...        ...   ...           ...   \n",
       "73119          2020-10-02          RECOLETA  masculino  55.0    confirmado   \n",
       "73120          2020-10-02          RECOLETA  masculino  23.0    confirmado   \n",
       "73121          2020-10-02          RECOLETA  masculino  64.0    confirmado   \n",
       "73110          2020-10-02            FLORES  masculino  60.0    confirmado   \n",
       "73701          2020-10-02           COGHLAN   femenino  59.0    confirmado   \n",
       "\n",
       "           comuna  habitantes  mujer  varon  superficie  ...  tMin  tProm  \\\n",
       "126936  Comuna 12       91563  49384  42179        5.45  ...  23.3  28.45   \n",
       "126984   Comuna 1        6726   3115   3611        5.03  ...  21.1  27.35   \n",
       "126983   Comuna 3       48611  26283  22328        2.04  ...  22.5  27.15   \n",
       "126982  Comuna 11       55273  30213  25060        3.40  ...  21.0  26.60   \n",
       "126980   Comuna 5       47306  25371  21935        2.61  ...  21.6  25.60   \n",
       "...           ...         ...    ...    ...         ...  ...   ...    ...   \n",
       "73119    Comuna 2      157932  89890  68042        6.29  ...   7.5  11.95   \n",
       "73120    Comuna 2      157932  89890  68042        6.29  ...   7.5  11.95   \n",
       "73121    Comuna 2      157932  89890  68042        6.29  ...   7.5  11.95   \n",
       "73110    Comuna 7      164310  87984  76326        8.59  ...   7.5  11.95   \n",
       "73701   Comuna 12       18604   9997   8607        1.28  ...   7.5  11.95   \n",
       "\n",
       "        Humedad  vVel   vDir    pMax    pMin    pProm  pax_TOTAL      FECHA  \n",
       "126936       73    57  Calma  1002.5  1007.5  1005.00   207806.0 2020-02-16  \n",
       "126984       67    21  Calma  1016.5  1019.5  1018.00  1186969.0 2020-03-01  \n",
       "126983       70    30  Norte  1013.4  1017.0  1015.20  1118806.0 2020-03-03  \n",
       "126982       70    20  Calma  1014.4  1016.7  1015.55  1135479.0 2020-03-04  \n",
       "126980       70    24  Norte  1015.1  1018.9  1017.00  1164013.0 2020-03-05  \n",
       "...         ...   ...    ...     ...     ...      ...        ...        ...  \n",
       "73119        66    44   Este  1014.1  1028.9  1021.50  1035204.0 2020-10-02  \n",
       "73120        66    44   Este  1014.1  1028.9  1021.50  1035204.0 2020-10-02  \n",
       "73121        66    44   Este  1014.1  1028.9  1021.50  1035204.0 2020-10-02  \n",
       "73110        66    44   Este  1014.1  1028.9  1021.50  1035204.0 2020-10-02  \n",
       "73701        66    44   Este  1014.1  1028.9  1021.50  1035204.0 2020-10-02  \n",
       "\n",
       "[126985 rows x 23 columns]"
      ]
     },
     "execution_count": 31,
     "metadata": {},
     "output_type": "execute_result"
    }
   ],
   "source": [
    "covid_caba_clean"
   ]
  },
  {
   "cell_type": "code",
   "execution_count": 32,
   "metadata": {},
   "outputs": [],
   "source": [
    "covid_caba_casos = covid_caba_df.groupby([\"fecha_toma_muestra\"])['clasificacion'].count().reset_index(name='clasificacion')\n"
   ]
  },
  {
   "cell_type": "code",
   "execution_count": 33,
   "metadata": {},
   "outputs": [
    {
     "data": {
      "text/html": [
       "<div>\n",
       "<style scoped>\n",
       "    .dataframe tbody tr th:only-of-type {\n",
       "        vertical-align: middle;\n",
       "    }\n",
       "\n",
       "    .dataframe tbody tr th {\n",
       "        vertical-align: top;\n",
       "    }\n",
       "\n",
       "    .dataframe thead th {\n",
       "        text-align: right;\n",
       "    }\n",
       "</style>\n",
       "<table border=\"1\" class=\"dataframe\">\n",
       "  <thead>\n",
       "    <tr style=\"text-align: right;\">\n",
       "      <th></th>\n",
       "      <th>fecha_toma_muestra</th>\n",
       "      <th>clasificacion</th>\n",
       "    </tr>\n",
       "  </thead>\n",
       "  <tbody>\n",
       "    <tr>\n",
       "      <th>0</th>\n",
       "      <td>2019-07-20</td>\n",
       "      <td>1</td>\n",
       "    </tr>\n",
       "    <tr>\n",
       "      <th>1</th>\n",
       "      <td>2019-07-30</td>\n",
       "      <td>1</td>\n",
       "    </tr>\n",
       "    <tr>\n",
       "      <th>2</th>\n",
       "      <td>2019-08-28</td>\n",
       "      <td>1</td>\n",
       "    </tr>\n",
       "    <tr>\n",
       "      <th>3</th>\n",
       "      <td>2020-02-06</td>\n",
       "      <td>1</td>\n",
       "    </tr>\n",
       "  </tbody>\n",
       "</table>\n",
       "</div>"
      ],
      "text/plain": [
       "  fecha_toma_muestra  clasificacion\n",
       "0         2019-07-20              1\n",
       "1         2019-07-30              1\n",
       "2         2019-08-28              1\n",
       "3         2020-02-06              1"
      ]
     },
     "execution_count": 33,
     "metadata": {},
     "output_type": "execute_result"
    }
   ],
   "source": [
    "covid_caba_casos.head(4)"
   ]
  },
  {
   "cell_type": "code",
   "execution_count": 34,
   "metadata": {},
   "outputs": [
    {
     "data": {
      "text/html": [
       "<div>\n",
       "<style scoped>\n",
       "    .dataframe tbody tr th:only-of-type {\n",
       "        vertical-align: middle;\n",
       "    }\n",
       "\n",
       "    .dataframe tbody tr th {\n",
       "        vertical-align: top;\n",
       "    }\n",
       "\n",
       "    .dataframe thead th {\n",
       "        text-align: right;\n",
       "    }\n",
       "</style>\n",
       "<table border=\"1\" class=\"dataframe\">\n",
       "  <thead>\n",
       "    <tr style=\"text-align: right;\">\n",
       "      <th></th>\n",
       "      <th>fecha_toma_muestra</th>\n",
       "      <th>clasificacion</th>\n",
       "      <th>Casos Día Anterior</th>\n",
       "    </tr>\n",
       "  </thead>\n",
       "  <tbody>\n",
       "    <tr>\n",
       "      <th>0</th>\n",
       "      <td>2019-07-20</td>\n",
       "      <td>1</td>\n",
       "      <td>NaN</td>\n",
       "    </tr>\n",
       "    <tr>\n",
       "      <th>1</th>\n",
       "      <td>2019-07-30</td>\n",
       "      <td>1</td>\n",
       "      <td>1.0</td>\n",
       "    </tr>\n",
       "    <tr>\n",
       "      <th>2</th>\n",
       "      <td>2019-08-28</td>\n",
       "      <td>1</td>\n",
       "      <td>1.0</td>\n",
       "    </tr>\n",
       "    <tr>\n",
       "      <th>3</th>\n",
       "      <td>2020-02-06</td>\n",
       "      <td>1</td>\n",
       "      <td>1.0</td>\n",
       "    </tr>\n",
       "    <tr>\n",
       "      <th>4</th>\n",
       "      <td>2020-02-16</td>\n",
       "      <td>1</td>\n",
       "      <td>1.0</td>\n",
       "    </tr>\n",
       "    <tr>\n",
       "      <th>...</th>\n",
       "      <td>...</td>\n",
       "      <td>...</td>\n",
       "      <td>...</td>\n",
       "    </tr>\n",
       "    <tr>\n",
       "      <th>236</th>\n",
       "      <td>2020-10-20</td>\n",
       "      <td>619</td>\n",
       "      <td>612.0</td>\n",
       "    </tr>\n",
       "    <tr>\n",
       "      <th>237</th>\n",
       "      <td>2020-10-21</td>\n",
       "      <td>491</td>\n",
       "      <td>619.0</td>\n",
       "    </tr>\n",
       "    <tr>\n",
       "      <th>238</th>\n",
       "      <td>2020-10-22</td>\n",
       "      <td>365</td>\n",
       "      <td>491.0</td>\n",
       "    </tr>\n",
       "    <tr>\n",
       "      <th>239</th>\n",
       "      <td>2020-10-23</td>\n",
       "      <td>158</td>\n",
       "      <td>365.0</td>\n",
       "    </tr>\n",
       "    <tr>\n",
       "      <th>240</th>\n",
       "      <td>2020-10-24</td>\n",
       "      <td>8</td>\n",
       "      <td>158.0</td>\n",
       "    </tr>\n",
       "  </tbody>\n",
       "</table>\n",
       "<p>241 rows × 3 columns</p>\n",
       "</div>"
      ],
      "text/plain": [
       "    fecha_toma_muestra  clasificacion  Casos Día Anterior\n",
       "0           2019-07-20              1                 NaN\n",
       "1           2019-07-30              1                 1.0\n",
       "2           2019-08-28              1                 1.0\n",
       "3           2020-02-06              1                 1.0\n",
       "4           2020-02-16              1                 1.0\n",
       "..                 ...            ...                 ...\n",
       "236         2020-10-20            619               612.0\n",
       "237         2020-10-21            491               619.0\n",
       "238         2020-10-22            365               491.0\n",
       "239         2020-10-23            158               365.0\n",
       "240         2020-10-24              8               158.0\n",
       "\n",
       "[241 rows x 3 columns]"
      ]
     },
     "execution_count": 34,
     "metadata": {},
     "output_type": "execute_result"
    }
   ],
   "source": [
    "covid_caba_casos[\"Casos Día Anterior\"]=covid_caba_casos.clasificacion.shift(1)\n",
    "covid_caba_casos"
   ]
  },
  {
   "cell_type": "code",
   "execution_count": 35,
   "metadata": {},
   "outputs": [
    {
     "data": {
      "text/plain": [
       "Index(['fecha_toma_muestra', 'barrio', 'genero', 'edad', 'clasificacion',\n",
       "       'comuna', 'habitantes', 'mujer', 'varon', 'superficie',\n",
       "       'densidad_pobacional', 'Fecha', 'tMax', 'tMin', 'tProm', 'Humedad',\n",
       "       'vVel', 'vDir', 'pMax', 'pMin', 'pProm', 'pax_TOTAL', 'FECHA'],\n",
       "      dtype='object')"
      ]
     },
     "execution_count": 35,
     "metadata": {},
     "output_type": "execute_result"
    }
   ],
   "source": [
    "covid_caba_clean.columns"
   ]
  },
  {
   "cell_type": "code",
   "execution_count": 36,
   "metadata": {},
   "outputs": [
    {
     "data": {
      "text/html": [
       "<div>\n",
       "<style scoped>\n",
       "    .dataframe tbody tr th:only-of-type {\n",
       "        vertical-align: middle;\n",
       "    }\n",
       "\n",
       "    .dataframe tbody tr th {\n",
       "        vertical-align: top;\n",
       "    }\n",
       "\n",
       "    .dataframe thead th {\n",
       "        text-align: right;\n",
       "    }\n",
       "</style>\n",
       "<table border=\"1\" class=\"dataframe\">\n",
       "  <thead>\n",
       "    <tr style=\"text-align: right;\">\n",
       "      <th></th>\n",
       "      <th>fecha_toma_muestra</th>\n",
       "      <th>Fecha</th>\n",
       "      <th>tMax</th>\n",
       "      <th>tMin</th>\n",
       "      <th>Humedad</th>\n",
       "      <th>vVel</th>\n",
       "      <th>vDir</th>\n",
       "      <th>pProm</th>\n",
       "      <th>pax_TOTAL</th>\n",
       "    </tr>\n",
       "  </thead>\n",
       "  <tbody>\n",
       "    <tr>\n",
       "      <th>126936</th>\n",
       "      <td>2020-02-16</td>\n",
       "      <td>2020-02-16</td>\n",
       "      <td>33.6</td>\n",
       "      <td>23.3</td>\n",
       "      <td>73</td>\n",
       "      <td>57</td>\n",
       "      <td>Calma</td>\n",
       "      <td>1005.00</td>\n",
       "      <td>207806.0</td>\n",
       "    </tr>\n",
       "    <tr>\n",
       "      <th>126984</th>\n",
       "      <td>2020-03-01</td>\n",
       "      <td>2020-03-01</td>\n",
       "      <td>33.6</td>\n",
       "      <td>21.1</td>\n",
       "      <td>67</td>\n",
       "      <td>21</td>\n",
       "      <td>Calma</td>\n",
       "      <td>1018.00</td>\n",
       "      <td>1186969.0</td>\n",
       "    </tr>\n",
       "    <tr>\n",
       "      <th>126983</th>\n",
       "      <td>2020-03-03</td>\n",
       "      <td>2020-03-03</td>\n",
       "      <td>31.8</td>\n",
       "      <td>22.5</td>\n",
       "      <td>70</td>\n",
       "      <td>30</td>\n",
       "      <td>Norte</td>\n",
       "      <td>1015.20</td>\n",
       "      <td>1118806.0</td>\n",
       "    </tr>\n",
       "    <tr>\n",
       "      <th>126982</th>\n",
       "      <td>2020-03-04</td>\n",
       "      <td>2020-03-04</td>\n",
       "      <td>32.2</td>\n",
       "      <td>21.0</td>\n",
       "      <td>70</td>\n",
       "      <td>20</td>\n",
       "      <td>Calma</td>\n",
       "      <td>1015.55</td>\n",
       "      <td>1135479.0</td>\n",
       "    </tr>\n",
       "    <tr>\n",
       "      <th>126980</th>\n",
       "      <td>2020-03-05</td>\n",
       "      <td>2020-03-05</td>\n",
       "      <td>29.6</td>\n",
       "      <td>21.6</td>\n",
       "      <td>70</td>\n",
       "      <td>24</td>\n",
       "      <td>Norte</td>\n",
       "      <td>1017.00</td>\n",
       "      <td>1164013.0</td>\n",
       "    </tr>\n",
       "    <tr>\n",
       "      <th>...</th>\n",
       "      <td>...</td>\n",
       "      <td>...</td>\n",
       "      <td>...</td>\n",
       "      <td>...</td>\n",
       "      <td>...</td>\n",
       "      <td>...</td>\n",
       "      <td>...</td>\n",
       "      <td>...</td>\n",
       "      <td>...</td>\n",
       "    </tr>\n",
       "    <tr>\n",
       "      <th>73119</th>\n",
       "      <td>2020-10-02</td>\n",
       "      <td>2020-10-02</td>\n",
       "      <td>16.4</td>\n",
       "      <td>7.5</td>\n",
       "      <td>66</td>\n",
       "      <td>44</td>\n",
       "      <td>Este</td>\n",
       "      <td>1021.50</td>\n",
       "      <td>1035204.0</td>\n",
       "    </tr>\n",
       "    <tr>\n",
       "      <th>73120</th>\n",
       "      <td>2020-10-02</td>\n",
       "      <td>2020-10-02</td>\n",
       "      <td>16.4</td>\n",
       "      <td>7.5</td>\n",
       "      <td>66</td>\n",
       "      <td>44</td>\n",
       "      <td>Este</td>\n",
       "      <td>1021.50</td>\n",
       "      <td>1035204.0</td>\n",
       "    </tr>\n",
       "    <tr>\n",
       "      <th>73121</th>\n",
       "      <td>2020-10-02</td>\n",
       "      <td>2020-10-02</td>\n",
       "      <td>16.4</td>\n",
       "      <td>7.5</td>\n",
       "      <td>66</td>\n",
       "      <td>44</td>\n",
       "      <td>Este</td>\n",
       "      <td>1021.50</td>\n",
       "      <td>1035204.0</td>\n",
       "    </tr>\n",
       "    <tr>\n",
       "      <th>73110</th>\n",
       "      <td>2020-10-02</td>\n",
       "      <td>2020-10-02</td>\n",
       "      <td>16.4</td>\n",
       "      <td>7.5</td>\n",
       "      <td>66</td>\n",
       "      <td>44</td>\n",
       "      <td>Este</td>\n",
       "      <td>1021.50</td>\n",
       "      <td>1035204.0</td>\n",
       "    </tr>\n",
       "    <tr>\n",
       "      <th>73701</th>\n",
       "      <td>2020-10-02</td>\n",
       "      <td>2020-10-02</td>\n",
       "      <td>16.4</td>\n",
       "      <td>7.5</td>\n",
       "      <td>66</td>\n",
       "      <td>44</td>\n",
       "      <td>Este</td>\n",
       "      <td>1021.50</td>\n",
       "      <td>1035204.0</td>\n",
       "    </tr>\n",
       "  </tbody>\n",
       "</table>\n",
       "<p>126985 rows × 9 columns</p>\n",
       "</div>"
      ],
      "text/plain": [
       "       fecha_toma_muestra      Fecha  tMax  tMin  Humedad  vVel   vDir  \\\n",
       "126936         2020-02-16 2020-02-16  33.6  23.3       73    57  Calma   \n",
       "126984         2020-03-01 2020-03-01  33.6  21.1       67    21  Calma   \n",
       "126983         2020-03-03 2020-03-03  31.8  22.5       70    30  Norte   \n",
       "126982         2020-03-04 2020-03-04  32.2  21.0       70    20  Calma   \n",
       "126980         2020-03-05 2020-03-05  29.6  21.6       70    24  Norte   \n",
       "...                   ...        ...   ...   ...      ...   ...    ...   \n",
       "73119          2020-10-02 2020-10-02  16.4   7.5       66    44   Este   \n",
       "73120          2020-10-02 2020-10-02  16.4   7.5       66    44   Este   \n",
       "73121          2020-10-02 2020-10-02  16.4   7.5       66    44   Este   \n",
       "73110          2020-10-02 2020-10-02  16.4   7.5       66    44   Este   \n",
       "73701          2020-10-02 2020-10-02  16.4   7.5       66    44   Este   \n",
       "\n",
       "          pProm  pax_TOTAL  \n",
       "126936  1005.00   207806.0  \n",
       "126984  1018.00  1186969.0  \n",
       "126983  1015.20  1118806.0  \n",
       "126982  1015.55  1135479.0  \n",
       "126980  1017.00  1164013.0  \n",
       "...         ...        ...  \n",
       "73119   1021.50  1035204.0  \n",
       "73120   1021.50  1035204.0  \n",
       "73121   1021.50  1035204.0  \n",
       "73110   1021.50  1035204.0  \n",
       "73701   1021.50  1035204.0  \n",
       "\n",
       "[126985 rows x 9 columns]"
      ]
     },
     "execution_count": 36,
     "metadata": {},
     "output_type": "execute_result"
    }
   ],
   "source": [
    "caba_regression_covid = covid_caba_clean[['fecha_toma_muestra', 'Fecha', 'tMax', 'tMin', 'Humedad',\n",
    "       'vVel', \"vDir\", 'pProm', 'pax_TOTAL']]\n",
    "caba_regression_covid"
   ]
  },
  {
   "cell_type": "markdown",
   "metadata": {},
   "source": [
    "#### Feature Engineering"
   ]
  },
  {
   "cell_type": "code",
   "execution_count": 37,
   "metadata": {},
   "outputs": [
    {
     "data": {
      "text/html": [
       "<div>\n",
       "<style scoped>\n",
       "    .dataframe tbody tr th:only-of-type {\n",
       "        vertical-align: middle;\n",
       "    }\n",
       "\n",
       "    .dataframe tbody tr th {\n",
       "        vertical-align: top;\n",
       "    }\n",
       "\n",
       "    .dataframe thead th {\n",
       "        text-align: right;\n",
       "    }\n",
       "</style>\n",
       "<table border=\"1\" class=\"dataframe\">\n",
       "  <thead>\n",
       "    <tr style=\"text-align: right;\">\n",
       "      <th></th>\n",
       "      <th>Calma</th>\n",
       "      <th>Este</th>\n",
       "      <th>Noreste</th>\n",
       "      <th>Norte</th>\n",
       "      <th>Oeste</th>\n",
       "      <th>Sudeste</th>\n",
       "      <th>Sudoeste</th>\n",
       "      <th>Sur</th>\n",
       "    </tr>\n",
       "  </thead>\n",
       "  <tbody>\n",
       "    <tr>\n",
       "      <th>126936</th>\n",
       "      <td>1</td>\n",
       "      <td>0</td>\n",
       "      <td>0</td>\n",
       "      <td>0</td>\n",
       "      <td>0</td>\n",
       "      <td>0</td>\n",
       "      <td>0</td>\n",
       "      <td>0</td>\n",
       "    </tr>\n",
       "    <tr>\n",
       "      <th>126984</th>\n",
       "      <td>1</td>\n",
       "      <td>0</td>\n",
       "      <td>0</td>\n",
       "      <td>0</td>\n",
       "      <td>0</td>\n",
       "      <td>0</td>\n",
       "      <td>0</td>\n",
       "      <td>0</td>\n",
       "    </tr>\n",
       "    <tr>\n",
       "      <th>126983</th>\n",
       "      <td>0</td>\n",
       "      <td>0</td>\n",
       "      <td>0</td>\n",
       "      <td>1</td>\n",
       "      <td>0</td>\n",
       "      <td>0</td>\n",
       "      <td>0</td>\n",
       "      <td>0</td>\n",
       "    </tr>\n",
       "    <tr>\n",
       "      <th>126982</th>\n",
       "      <td>1</td>\n",
       "      <td>0</td>\n",
       "      <td>0</td>\n",
       "      <td>0</td>\n",
       "      <td>0</td>\n",
       "      <td>0</td>\n",
       "      <td>0</td>\n",
       "      <td>0</td>\n",
       "    </tr>\n",
       "    <tr>\n",
       "      <th>126980</th>\n",
       "      <td>0</td>\n",
       "      <td>0</td>\n",
       "      <td>0</td>\n",
       "      <td>1</td>\n",
       "      <td>0</td>\n",
       "      <td>0</td>\n",
       "      <td>0</td>\n",
       "      <td>0</td>\n",
       "    </tr>\n",
       "    <tr>\n",
       "      <th>...</th>\n",
       "      <td>...</td>\n",
       "      <td>...</td>\n",
       "      <td>...</td>\n",
       "      <td>...</td>\n",
       "      <td>...</td>\n",
       "      <td>...</td>\n",
       "      <td>...</td>\n",
       "      <td>...</td>\n",
       "    </tr>\n",
       "    <tr>\n",
       "      <th>73119</th>\n",
       "      <td>0</td>\n",
       "      <td>1</td>\n",
       "      <td>0</td>\n",
       "      <td>0</td>\n",
       "      <td>0</td>\n",
       "      <td>0</td>\n",
       "      <td>0</td>\n",
       "      <td>0</td>\n",
       "    </tr>\n",
       "    <tr>\n",
       "      <th>73120</th>\n",
       "      <td>0</td>\n",
       "      <td>1</td>\n",
       "      <td>0</td>\n",
       "      <td>0</td>\n",
       "      <td>0</td>\n",
       "      <td>0</td>\n",
       "      <td>0</td>\n",
       "      <td>0</td>\n",
       "    </tr>\n",
       "    <tr>\n",
       "      <th>73121</th>\n",
       "      <td>0</td>\n",
       "      <td>1</td>\n",
       "      <td>0</td>\n",
       "      <td>0</td>\n",
       "      <td>0</td>\n",
       "      <td>0</td>\n",
       "      <td>0</td>\n",
       "      <td>0</td>\n",
       "    </tr>\n",
       "    <tr>\n",
       "      <th>73110</th>\n",
       "      <td>0</td>\n",
       "      <td>1</td>\n",
       "      <td>0</td>\n",
       "      <td>0</td>\n",
       "      <td>0</td>\n",
       "      <td>0</td>\n",
       "      <td>0</td>\n",
       "      <td>0</td>\n",
       "    </tr>\n",
       "    <tr>\n",
       "      <th>73701</th>\n",
       "      <td>0</td>\n",
       "      <td>1</td>\n",
       "      <td>0</td>\n",
       "      <td>0</td>\n",
       "      <td>0</td>\n",
       "      <td>0</td>\n",
       "      <td>0</td>\n",
       "      <td>0</td>\n",
       "    </tr>\n",
       "  </tbody>\n",
       "</table>\n",
       "<p>126985 rows × 8 columns</p>\n",
       "</div>"
      ],
      "text/plain": [
       "        Calma  Este  Noreste  Norte  Oeste  Sudeste  Sudoeste  Sur\n",
       "126936      1     0        0      0      0        0         0    0\n",
       "126984      1     0        0      0      0        0         0    0\n",
       "126983      0     0        0      1      0        0         0    0\n",
       "126982      1     0        0      0      0        0         0    0\n",
       "126980      0     0        0      1      0        0         0    0\n",
       "...       ...   ...      ...    ...    ...      ...       ...  ...\n",
       "73119       0     1        0      0      0        0         0    0\n",
       "73120       0     1        0      0      0        0         0    0\n",
       "73121       0     1        0      0      0        0         0    0\n",
       "73110       0     1        0      0      0        0         0    0\n",
       "73701       0     1        0      0      0        0         0    0\n",
       "\n",
       "[126985 rows x 8 columns]"
      ]
     },
     "execution_count": 37,
     "metadata": {},
     "output_type": "execute_result"
    }
   ],
   "source": [
    "caba_wind_dummie = pd.get_dummies(caba_regression_covid.vDir)\n",
    "caba_wind_dummie"
   ]
  },
  {
   "cell_type": "code",
   "execution_count": 38,
   "metadata": {},
   "outputs": [
    {
     "data": {
      "text/html": [
       "<div>\n",
       "<style scoped>\n",
       "    .dataframe tbody tr th:only-of-type {\n",
       "        vertical-align: middle;\n",
       "    }\n",
       "\n",
       "    .dataframe tbody tr th {\n",
       "        vertical-align: top;\n",
       "    }\n",
       "\n",
       "    .dataframe thead th {\n",
       "        text-align: right;\n",
       "    }\n",
       "</style>\n",
       "<table border=\"1\" class=\"dataframe\">\n",
       "  <thead>\n",
       "    <tr style=\"text-align: right;\">\n",
       "      <th></th>\n",
       "      <th>fecha_toma_muestra</th>\n",
       "      <th>clasificacion</th>\n",
       "      <th>Casos Día Anterior</th>\n",
       "    </tr>\n",
       "  </thead>\n",
       "  <tbody>\n",
       "    <tr>\n",
       "      <th>0</th>\n",
       "      <td>2019-07-20</td>\n",
       "      <td>1</td>\n",
       "      <td>NaN</td>\n",
       "    </tr>\n",
       "    <tr>\n",
       "      <th>1</th>\n",
       "      <td>2019-07-30</td>\n",
       "      <td>1</td>\n",
       "      <td>1.0</td>\n",
       "    </tr>\n",
       "    <tr>\n",
       "      <th>2</th>\n",
       "      <td>2019-08-28</td>\n",
       "      <td>1</td>\n",
       "      <td>1.0</td>\n",
       "    </tr>\n",
       "    <tr>\n",
       "      <th>3</th>\n",
       "      <td>2020-02-06</td>\n",
       "      <td>1</td>\n",
       "      <td>1.0</td>\n",
       "    </tr>\n",
       "    <tr>\n",
       "      <th>4</th>\n",
       "      <td>2020-02-16</td>\n",
       "      <td>1</td>\n",
       "      <td>1.0</td>\n",
       "    </tr>\n",
       "    <tr>\n",
       "      <th>...</th>\n",
       "      <td>...</td>\n",
       "      <td>...</td>\n",
       "      <td>...</td>\n",
       "    </tr>\n",
       "    <tr>\n",
       "      <th>236</th>\n",
       "      <td>2020-10-20</td>\n",
       "      <td>619</td>\n",
       "      <td>612.0</td>\n",
       "    </tr>\n",
       "    <tr>\n",
       "      <th>237</th>\n",
       "      <td>2020-10-21</td>\n",
       "      <td>491</td>\n",
       "      <td>619.0</td>\n",
       "    </tr>\n",
       "    <tr>\n",
       "      <th>238</th>\n",
       "      <td>2020-10-22</td>\n",
       "      <td>365</td>\n",
       "      <td>491.0</td>\n",
       "    </tr>\n",
       "    <tr>\n",
       "      <th>239</th>\n",
       "      <td>2020-10-23</td>\n",
       "      <td>158</td>\n",
       "      <td>365.0</td>\n",
       "    </tr>\n",
       "    <tr>\n",
       "      <th>240</th>\n",
       "      <td>2020-10-24</td>\n",
       "      <td>8</td>\n",
       "      <td>158.0</td>\n",
       "    </tr>\n",
       "  </tbody>\n",
       "</table>\n",
       "<p>241 rows × 3 columns</p>\n",
       "</div>"
      ],
      "text/plain": [
       "    fecha_toma_muestra  clasificacion  Casos Día Anterior\n",
       "0           2019-07-20              1                 NaN\n",
       "1           2019-07-30              1                 1.0\n",
       "2           2019-08-28              1                 1.0\n",
       "3           2020-02-06              1                 1.0\n",
       "4           2020-02-16              1                 1.0\n",
       "..                 ...            ...                 ...\n",
       "236         2020-10-20            619               612.0\n",
       "237         2020-10-21            491               619.0\n",
       "238         2020-10-22            365               491.0\n",
       "239         2020-10-23            158               365.0\n",
       "240         2020-10-24              8               158.0\n",
       "\n",
       "[241 rows x 3 columns]"
      ]
     },
     "execution_count": 38,
     "metadata": {},
     "output_type": "execute_result"
    }
   ],
   "source": [
    "caba_regression_covid = caba_regression_covid.join([caba_wind_dummie])\n",
    "#caba_regression_covid.head(5)\n",
    "covid_caba_casos"
   ]
  },
  {
   "cell_type": "code",
   "execution_count": 39,
   "metadata": {},
   "outputs": [
    {
     "data": {
      "text/html": [
       "<div>\n",
       "<style scoped>\n",
       "    .dataframe tbody tr th:only-of-type {\n",
       "        vertical-align: middle;\n",
       "    }\n",
       "\n",
       "    .dataframe tbody tr th {\n",
       "        vertical-align: top;\n",
       "    }\n",
       "\n",
       "    .dataframe thead th {\n",
       "        text-align: right;\n",
       "    }\n",
       "</style>\n",
       "<table border=\"1\" class=\"dataframe\">\n",
       "  <thead>\n",
       "    <tr style=\"text-align: right;\">\n",
       "      <th></th>\n",
       "      <th>fecha_toma_muestra</th>\n",
       "      <th>Fecha</th>\n",
       "      <th>tMax</th>\n",
       "      <th>tMin</th>\n",
       "      <th>Humedad</th>\n",
       "      <th>vVel</th>\n",
       "      <th>vDir</th>\n",
       "      <th>pProm</th>\n",
       "      <th>pax_TOTAL</th>\n",
       "      <th>Calma</th>\n",
       "      <th>Este</th>\n",
       "      <th>Noreste</th>\n",
       "      <th>Norte</th>\n",
       "      <th>Oeste</th>\n",
       "      <th>Sudeste</th>\n",
       "      <th>Sudoeste</th>\n",
       "      <th>Sur</th>\n",
       "    </tr>\n",
       "  </thead>\n",
       "  <tbody>\n",
       "    <tr>\n",
       "      <th>126936</th>\n",
       "      <td>2020-02-16</td>\n",
       "      <td>2020-02-16</td>\n",
       "      <td>33.6</td>\n",
       "      <td>23.3</td>\n",
       "      <td>73</td>\n",
       "      <td>57</td>\n",
       "      <td>Calma</td>\n",
       "      <td>1005.00</td>\n",
       "      <td>207806.0</td>\n",
       "      <td>1</td>\n",
       "      <td>0</td>\n",
       "      <td>0</td>\n",
       "      <td>0</td>\n",
       "      <td>0</td>\n",
       "      <td>0</td>\n",
       "      <td>0</td>\n",
       "      <td>0</td>\n",
       "    </tr>\n",
       "    <tr>\n",
       "      <th>126984</th>\n",
       "      <td>2020-03-01</td>\n",
       "      <td>2020-03-01</td>\n",
       "      <td>33.6</td>\n",
       "      <td>21.1</td>\n",
       "      <td>67</td>\n",
       "      <td>21</td>\n",
       "      <td>Calma</td>\n",
       "      <td>1018.00</td>\n",
       "      <td>1186969.0</td>\n",
       "      <td>1</td>\n",
       "      <td>0</td>\n",
       "      <td>0</td>\n",
       "      <td>0</td>\n",
       "      <td>0</td>\n",
       "      <td>0</td>\n",
       "      <td>0</td>\n",
       "      <td>0</td>\n",
       "    </tr>\n",
       "    <tr>\n",
       "      <th>126983</th>\n",
       "      <td>2020-03-03</td>\n",
       "      <td>2020-03-03</td>\n",
       "      <td>31.8</td>\n",
       "      <td>22.5</td>\n",
       "      <td>70</td>\n",
       "      <td>30</td>\n",
       "      <td>Norte</td>\n",
       "      <td>1015.20</td>\n",
       "      <td>1118806.0</td>\n",
       "      <td>0</td>\n",
       "      <td>0</td>\n",
       "      <td>0</td>\n",
       "      <td>1</td>\n",
       "      <td>0</td>\n",
       "      <td>0</td>\n",
       "      <td>0</td>\n",
       "      <td>0</td>\n",
       "    </tr>\n",
       "    <tr>\n",
       "      <th>126982</th>\n",
       "      <td>2020-03-04</td>\n",
       "      <td>2020-03-04</td>\n",
       "      <td>32.2</td>\n",
       "      <td>21.0</td>\n",
       "      <td>70</td>\n",
       "      <td>20</td>\n",
       "      <td>Calma</td>\n",
       "      <td>1015.55</td>\n",
       "      <td>1135479.0</td>\n",
       "      <td>1</td>\n",
       "      <td>0</td>\n",
       "      <td>0</td>\n",
       "      <td>0</td>\n",
       "      <td>0</td>\n",
       "      <td>0</td>\n",
       "      <td>0</td>\n",
       "      <td>0</td>\n",
       "    </tr>\n",
       "    <tr>\n",
       "      <th>126980</th>\n",
       "      <td>2020-03-05</td>\n",
       "      <td>2020-03-05</td>\n",
       "      <td>29.6</td>\n",
       "      <td>21.6</td>\n",
       "      <td>70</td>\n",
       "      <td>24</td>\n",
       "      <td>Norte</td>\n",
       "      <td>1017.00</td>\n",
       "      <td>1164013.0</td>\n",
       "      <td>0</td>\n",
       "      <td>0</td>\n",
       "      <td>0</td>\n",
       "      <td>1</td>\n",
       "      <td>0</td>\n",
       "      <td>0</td>\n",
       "      <td>0</td>\n",
       "      <td>0</td>\n",
       "    </tr>\n",
       "    <tr>\n",
       "      <th>...</th>\n",
       "      <td>...</td>\n",
       "      <td>...</td>\n",
       "      <td>...</td>\n",
       "      <td>...</td>\n",
       "      <td>...</td>\n",
       "      <td>...</td>\n",
       "      <td>...</td>\n",
       "      <td>...</td>\n",
       "      <td>...</td>\n",
       "      <td>...</td>\n",
       "      <td>...</td>\n",
       "      <td>...</td>\n",
       "      <td>...</td>\n",
       "      <td>...</td>\n",
       "      <td>...</td>\n",
       "      <td>...</td>\n",
       "      <td>...</td>\n",
       "    </tr>\n",
       "    <tr>\n",
       "      <th>73119</th>\n",
       "      <td>2020-10-02</td>\n",
       "      <td>2020-10-02</td>\n",
       "      <td>16.4</td>\n",
       "      <td>7.5</td>\n",
       "      <td>66</td>\n",
       "      <td>44</td>\n",
       "      <td>Este</td>\n",
       "      <td>1021.50</td>\n",
       "      <td>1035204.0</td>\n",
       "      <td>0</td>\n",
       "      <td>1</td>\n",
       "      <td>0</td>\n",
       "      <td>0</td>\n",
       "      <td>0</td>\n",
       "      <td>0</td>\n",
       "      <td>0</td>\n",
       "      <td>0</td>\n",
       "    </tr>\n",
       "    <tr>\n",
       "      <th>73120</th>\n",
       "      <td>2020-10-02</td>\n",
       "      <td>2020-10-02</td>\n",
       "      <td>16.4</td>\n",
       "      <td>7.5</td>\n",
       "      <td>66</td>\n",
       "      <td>44</td>\n",
       "      <td>Este</td>\n",
       "      <td>1021.50</td>\n",
       "      <td>1035204.0</td>\n",
       "      <td>0</td>\n",
       "      <td>1</td>\n",
       "      <td>0</td>\n",
       "      <td>0</td>\n",
       "      <td>0</td>\n",
       "      <td>0</td>\n",
       "      <td>0</td>\n",
       "      <td>0</td>\n",
       "    </tr>\n",
       "    <tr>\n",
       "      <th>73121</th>\n",
       "      <td>2020-10-02</td>\n",
       "      <td>2020-10-02</td>\n",
       "      <td>16.4</td>\n",
       "      <td>7.5</td>\n",
       "      <td>66</td>\n",
       "      <td>44</td>\n",
       "      <td>Este</td>\n",
       "      <td>1021.50</td>\n",
       "      <td>1035204.0</td>\n",
       "      <td>0</td>\n",
       "      <td>1</td>\n",
       "      <td>0</td>\n",
       "      <td>0</td>\n",
       "      <td>0</td>\n",
       "      <td>0</td>\n",
       "      <td>0</td>\n",
       "      <td>0</td>\n",
       "    </tr>\n",
       "    <tr>\n",
       "      <th>73110</th>\n",
       "      <td>2020-10-02</td>\n",
       "      <td>2020-10-02</td>\n",
       "      <td>16.4</td>\n",
       "      <td>7.5</td>\n",
       "      <td>66</td>\n",
       "      <td>44</td>\n",
       "      <td>Este</td>\n",
       "      <td>1021.50</td>\n",
       "      <td>1035204.0</td>\n",
       "      <td>0</td>\n",
       "      <td>1</td>\n",
       "      <td>0</td>\n",
       "      <td>0</td>\n",
       "      <td>0</td>\n",
       "      <td>0</td>\n",
       "      <td>0</td>\n",
       "      <td>0</td>\n",
       "    </tr>\n",
       "    <tr>\n",
       "      <th>73701</th>\n",
       "      <td>2020-10-02</td>\n",
       "      <td>2020-10-02</td>\n",
       "      <td>16.4</td>\n",
       "      <td>7.5</td>\n",
       "      <td>66</td>\n",
       "      <td>44</td>\n",
       "      <td>Este</td>\n",
       "      <td>1021.50</td>\n",
       "      <td>1035204.0</td>\n",
       "      <td>0</td>\n",
       "      <td>1</td>\n",
       "      <td>0</td>\n",
       "      <td>0</td>\n",
       "      <td>0</td>\n",
       "      <td>0</td>\n",
       "      <td>0</td>\n",
       "      <td>0</td>\n",
       "    </tr>\n",
       "  </tbody>\n",
       "</table>\n",
       "<p>126985 rows × 17 columns</p>\n",
       "</div>"
      ],
      "text/plain": [
       "       fecha_toma_muestra      Fecha  tMax  tMin  Humedad  vVel   vDir  \\\n",
       "126936         2020-02-16 2020-02-16  33.6  23.3       73    57  Calma   \n",
       "126984         2020-03-01 2020-03-01  33.6  21.1       67    21  Calma   \n",
       "126983         2020-03-03 2020-03-03  31.8  22.5       70    30  Norte   \n",
       "126982         2020-03-04 2020-03-04  32.2  21.0       70    20  Calma   \n",
       "126980         2020-03-05 2020-03-05  29.6  21.6       70    24  Norte   \n",
       "...                   ...        ...   ...   ...      ...   ...    ...   \n",
       "73119          2020-10-02 2020-10-02  16.4   7.5       66    44   Este   \n",
       "73120          2020-10-02 2020-10-02  16.4   7.5       66    44   Este   \n",
       "73121          2020-10-02 2020-10-02  16.4   7.5       66    44   Este   \n",
       "73110          2020-10-02 2020-10-02  16.4   7.5       66    44   Este   \n",
       "73701          2020-10-02 2020-10-02  16.4   7.5       66    44   Este   \n",
       "\n",
       "          pProm  pax_TOTAL  Calma  Este  Noreste  Norte  Oeste  Sudeste  \\\n",
       "126936  1005.00   207806.0      1     0        0      0      0        0   \n",
       "126984  1018.00  1186969.0      1     0        0      0      0        0   \n",
       "126983  1015.20  1118806.0      0     0        0      1      0        0   \n",
       "126982  1015.55  1135479.0      1     0        0      0      0        0   \n",
       "126980  1017.00  1164013.0      0     0        0      1      0        0   \n",
       "...         ...        ...    ...   ...      ...    ...    ...      ...   \n",
       "73119   1021.50  1035204.0      0     1        0      0      0        0   \n",
       "73120   1021.50  1035204.0      0     1        0      0      0        0   \n",
       "73121   1021.50  1035204.0      0     1        0      0      0        0   \n",
       "73110   1021.50  1035204.0      0     1        0      0      0        0   \n",
       "73701   1021.50  1035204.0      0     1        0      0      0        0   \n",
       "\n",
       "        Sudoeste  Sur  \n",
       "126936         0    0  \n",
       "126984         0    0  \n",
       "126983         0    0  \n",
       "126982         0    0  \n",
       "126980         0    0  \n",
       "...          ...  ...  \n",
       "73119          0    0  \n",
       "73120          0    0  \n",
       "73121          0    0  \n",
       "73110          0    0  \n",
       "73701          0    0  \n",
       "\n",
       "[126985 rows x 17 columns]"
      ]
     },
     "execution_count": 39,
     "metadata": {},
     "output_type": "execute_result"
    }
   ],
   "source": [
    "caba_regression_covid"
   ]
  },
  {
   "cell_type": "code",
   "execution_count": 40,
   "metadata": {},
   "outputs": [
    {
     "data": {
      "text/html": [
       "<div>\n",
       "<style scoped>\n",
       "    .dataframe tbody tr th:only-of-type {\n",
       "        vertical-align: middle;\n",
       "    }\n",
       "\n",
       "    .dataframe tbody tr th {\n",
       "        vertical-align: top;\n",
       "    }\n",
       "\n",
       "    .dataframe thead th {\n",
       "        text-align: right;\n",
       "    }\n",
       "</style>\n",
       "<table border=\"1\" class=\"dataframe\">\n",
       "  <thead>\n",
       "    <tr style=\"text-align: right;\">\n",
       "      <th></th>\n",
       "      <th>fecha_toma_muestra</th>\n",
       "      <th>clasificacion</th>\n",
       "      <th>Casos Día Anterior</th>\n",
       "    </tr>\n",
       "  </thead>\n",
       "  <tbody>\n",
       "    <tr>\n",
       "      <th>0</th>\n",
       "      <td>2019-07-20</td>\n",
       "      <td>1</td>\n",
       "      <td>NaN</td>\n",
       "    </tr>\n",
       "    <tr>\n",
       "      <th>1</th>\n",
       "      <td>2019-07-30</td>\n",
       "      <td>1</td>\n",
       "      <td>1.0</td>\n",
       "    </tr>\n",
       "    <tr>\n",
       "      <th>2</th>\n",
       "      <td>2019-08-28</td>\n",
       "      <td>1</td>\n",
       "      <td>1.0</td>\n",
       "    </tr>\n",
       "    <tr>\n",
       "      <th>3</th>\n",
       "      <td>2020-02-06</td>\n",
       "      <td>1</td>\n",
       "      <td>1.0</td>\n",
       "    </tr>\n",
       "    <tr>\n",
       "      <th>4</th>\n",
       "      <td>2020-02-16</td>\n",
       "      <td>1</td>\n",
       "      <td>1.0</td>\n",
       "    </tr>\n",
       "    <tr>\n",
       "      <th>...</th>\n",
       "      <td>...</td>\n",
       "      <td>...</td>\n",
       "      <td>...</td>\n",
       "    </tr>\n",
       "    <tr>\n",
       "      <th>236</th>\n",
       "      <td>2020-10-20</td>\n",
       "      <td>619</td>\n",
       "      <td>612.0</td>\n",
       "    </tr>\n",
       "    <tr>\n",
       "      <th>237</th>\n",
       "      <td>2020-10-21</td>\n",
       "      <td>491</td>\n",
       "      <td>619.0</td>\n",
       "    </tr>\n",
       "    <tr>\n",
       "      <th>238</th>\n",
       "      <td>2020-10-22</td>\n",
       "      <td>365</td>\n",
       "      <td>491.0</td>\n",
       "    </tr>\n",
       "    <tr>\n",
       "      <th>239</th>\n",
       "      <td>2020-10-23</td>\n",
       "      <td>158</td>\n",
       "      <td>365.0</td>\n",
       "    </tr>\n",
       "    <tr>\n",
       "      <th>240</th>\n",
       "      <td>2020-10-24</td>\n",
       "      <td>8</td>\n",
       "      <td>158.0</td>\n",
       "    </tr>\n",
       "  </tbody>\n",
       "</table>\n",
       "<p>241 rows × 3 columns</p>\n",
       "</div>"
      ],
      "text/plain": [
       "    fecha_toma_muestra  clasificacion  Casos Día Anterior\n",
       "0           2019-07-20              1                 NaN\n",
       "1           2019-07-30              1                 1.0\n",
       "2           2019-08-28              1                 1.0\n",
       "3           2020-02-06              1                 1.0\n",
       "4           2020-02-16              1                 1.0\n",
       "..                 ...            ...                 ...\n",
       "236         2020-10-20            619               612.0\n",
       "237         2020-10-21            491               619.0\n",
       "238         2020-10-22            365               491.0\n",
       "239         2020-10-23            158               365.0\n",
       "240         2020-10-24              8               158.0\n",
       "\n",
       "[241 rows x 3 columns]"
      ]
     },
     "execution_count": 40,
     "metadata": {},
     "output_type": "execute_result"
    }
   ],
   "source": [
    "covid_caba_casos"
   ]
  },
  {
   "cell_type": "code",
   "execution_count": 41,
   "metadata": {},
   "outputs": [
    {
     "data": {
      "text/html": [
       "<div>\n",
       "<style scoped>\n",
       "    .dataframe tbody tr th:only-of-type {\n",
       "        vertical-align: middle;\n",
       "    }\n",
       "\n",
       "    .dataframe tbody tr th {\n",
       "        vertical-align: top;\n",
       "    }\n",
       "\n",
       "    .dataframe thead th {\n",
       "        text-align: right;\n",
       "    }\n",
       "</style>\n",
       "<table border=\"1\" class=\"dataframe\">\n",
       "  <thead>\n",
       "    <tr style=\"text-align: right;\">\n",
       "      <th></th>\n",
       "      <th>fecha_toma_muestra</th>\n",
       "      <th>Fecha</th>\n",
       "      <th>tMax</th>\n",
       "      <th>tMin</th>\n",
       "      <th>Humedad</th>\n",
       "      <th>vVel</th>\n",
       "      <th>vDir</th>\n",
       "      <th>pProm</th>\n",
       "      <th>pax_TOTAL</th>\n",
       "      <th>Calma</th>\n",
       "      <th>Este</th>\n",
       "      <th>Noreste</th>\n",
       "      <th>Norte</th>\n",
       "      <th>Oeste</th>\n",
       "      <th>Sudeste</th>\n",
       "      <th>Sudoeste</th>\n",
       "      <th>Sur</th>\n",
       "      <th>clasificacion</th>\n",
       "      <th>Casos Día Anterior</th>\n",
       "    </tr>\n",
       "  </thead>\n",
       "  <tbody>\n",
       "    <tr>\n",
       "      <th>0</th>\n",
       "      <td>2020-02-16</td>\n",
       "      <td>2020-02-16</td>\n",
       "      <td>33.6</td>\n",
       "      <td>23.3</td>\n",
       "      <td>73</td>\n",
       "      <td>57</td>\n",
       "      <td>Calma</td>\n",
       "      <td>1005.00</td>\n",
       "      <td>207806.0</td>\n",
       "      <td>1</td>\n",
       "      <td>0</td>\n",
       "      <td>0</td>\n",
       "      <td>0</td>\n",
       "      <td>0</td>\n",
       "      <td>0</td>\n",
       "      <td>0</td>\n",
       "      <td>0</td>\n",
       "      <td>1</td>\n",
       "      <td>1.0</td>\n",
       "    </tr>\n",
       "    <tr>\n",
       "      <th>1</th>\n",
       "      <td>2020-03-01</td>\n",
       "      <td>2020-03-01</td>\n",
       "      <td>33.6</td>\n",
       "      <td>21.1</td>\n",
       "      <td>67</td>\n",
       "      <td>21</td>\n",
       "      <td>Calma</td>\n",
       "      <td>1018.00</td>\n",
       "      <td>1186969.0</td>\n",
       "      <td>1</td>\n",
       "      <td>0</td>\n",
       "      <td>0</td>\n",
       "      <td>0</td>\n",
       "      <td>0</td>\n",
       "      <td>0</td>\n",
       "      <td>0</td>\n",
       "      <td>0</td>\n",
       "      <td>1</td>\n",
       "      <td>1.0</td>\n",
       "    </tr>\n",
       "    <tr>\n",
       "      <th>2</th>\n",
       "      <td>2020-03-03</td>\n",
       "      <td>2020-03-03</td>\n",
       "      <td>31.8</td>\n",
       "      <td>22.5</td>\n",
       "      <td>70</td>\n",
       "      <td>30</td>\n",
       "      <td>Norte</td>\n",
       "      <td>1015.20</td>\n",
       "      <td>1118806.0</td>\n",
       "      <td>0</td>\n",
       "      <td>0</td>\n",
       "      <td>0</td>\n",
       "      <td>1</td>\n",
       "      <td>0</td>\n",
       "      <td>0</td>\n",
       "      <td>0</td>\n",
       "      <td>0</td>\n",
       "      <td>1</td>\n",
       "      <td>1.0</td>\n",
       "    </tr>\n",
       "    <tr>\n",
       "      <th>3</th>\n",
       "      <td>2020-03-04</td>\n",
       "      <td>2020-03-04</td>\n",
       "      <td>32.2</td>\n",
       "      <td>21.0</td>\n",
       "      <td>70</td>\n",
       "      <td>20</td>\n",
       "      <td>Calma</td>\n",
       "      <td>1015.55</td>\n",
       "      <td>1135479.0</td>\n",
       "      <td>1</td>\n",
       "      <td>0</td>\n",
       "      <td>0</td>\n",
       "      <td>0</td>\n",
       "      <td>0</td>\n",
       "      <td>0</td>\n",
       "      <td>0</td>\n",
       "      <td>0</td>\n",
       "      <td>1</td>\n",
       "      <td>1.0</td>\n",
       "    </tr>\n",
       "    <tr>\n",
       "      <th>4</th>\n",
       "      <td>2020-03-05</td>\n",
       "      <td>2020-03-05</td>\n",
       "      <td>29.6</td>\n",
       "      <td>21.6</td>\n",
       "      <td>70</td>\n",
       "      <td>24</td>\n",
       "      <td>Norte</td>\n",
       "      <td>1017.00</td>\n",
       "      <td>1164013.0</td>\n",
       "      <td>0</td>\n",
       "      <td>0</td>\n",
       "      <td>0</td>\n",
       "      <td>1</td>\n",
       "      <td>0</td>\n",
       "      <td>0</td>\n",
       "      <td>0</td>\n",
       "      <td>0</td>\n",
       "      <td>4</td>\n",
       "      <td>1.0</td>\n",
       "    </tr>\n",
       "    <tr>\n",
       "      <th>...</th>\n",
       "      <td>...</td>\n",
       "      <td>...</td>\n",
       "      <td>...</td>\n",
       "      <td>...</td>\n",
       "      <td>...</td>\n",
       "      <td>...</td>\n",
       "      <td>...</td>\n",
       "      <td>...</td>\n",
       "      <td>...</td>\n",
       "      <td>...</td>\n",
       "      <td>...</td>\n",
       "      <td>...</td>\n",
       "      <td>...</td>\n",
       "      <td>...</td>\n",
       "      <td>...</td>\n",
       "      <td>...</td>\n",
       "      <td>...</td>\n",
       "      <td>...</td>\n",
       "      <td>...</td>\n",
       "    </tr>\n",
       "    <tr>\n",
       "      <th>126980</th>\n",
       "      <td>2020-10-02</td>\n",
       "      <td>2020-10-02</td>\n",
       "      <td>16.4</td>\n",
       "      <td>7.5</td>\n",
       "      <td>66</td>\n",
       "      <td>44</td>\n",
       "      <td>Este</td>\n",
       "      <td>1021.50</td>\n",
       "      <td>1035204.0</td>\n",
       "      <td>0</td>\n",
       "      <td>1</td>\n",
       "      <td>0</td>\n",
       "      <td>0</td>\n",
       "      <td>0</td>\n",
       "      <td>0</td>\n",
       "      <td>0</td>\n",
       "      <td>0</td>\n",
       "      <td>903</td>\n",
       "      <td>871.0</td>\n",
       "    </tr>\n",
       "    <tr>\n",
       "      <th>126981</th>\n",
       "      <td>2020-10-02</td>\n",
       "      <td>2020-10-02</td>\n",
       "      <td>16.4</td>\n",
       "      <td>7.5</td>\n",
       "      <td>66</td>\n",
       "      <td>44</td>\n",
       "      <td>Este</td>\n",
       "      <td>1021.50</td>\n",
       "      <td>1035204.0</td>\n",
       "      <td>0</td>\n",
       "      <td>1</td>\n",
       "      <td>0</td>\n",
       "      <td>0</td>\n",
       "      <td>0</td>\n",
       "      <td>0</td>\n",
       "      <td>0</td>\n",
       "      <td>0</td>\n",
       "      <td>903</td>\n",
       "      <td>871.0</td>\n",
       "    </tr>\n",
       "    <tr>\n",
       "      <th>126982</th>\n",
       "      <td>2020-10-02</td>\n",
       "      <td>2020-10-02</td>\n",
       "      <td>16.4</td>\n",
       "      <td>7.5</td>\n",
       "      <td>66</td>\n",
       "      <td>44</td>\n",
       "      <td>Este</td>\n",
       "      <td>1021.50</td>\n",
       "      <td>1035204.0</td>\n",
       "      <td>0</td>\n",
       "      <td>1</td>\n",
       "      <td>0</td>\n",
       "      <td>0</td>\n",
       "      <td>0</td>\n",
       "      <td>0</td>\n",
       "      <td>0</td>\n",
       "      <td>0</td>\n",
       "      <td>903</td>\n",
       "      <td>871.0</td>\n",
       "    </tr>\n",
       "    <tr>\n",
       "      <th>126983</th>\n",
       "      <td>2020-10-02</td>\n",
       "      <td>2020-10-02</td>\n",
       "      <td>16.4</td>\n",
       "      <td>7.5</td>\n",
       "      <td>66</td>\n",
       "      <td>44</td>\n",
       "      <td>Este</td>\n",
       "      <td>1021.50</td>\n",
       "      <td>1035204.0</td>\n",
       "      <td>0</td>\n",
       "      <td>1</td>\n",
       "      <td>0</td>\n",
       "      <td>0</td>\n",
       "      <td>0</td>\n",
       "      <td>0</td>\n",
       "      <td>0</td>\n",
       "      <td>0</td>\n",
       "      <td>903</td>\n",
       "      <td>871.0</td>\n",
       "    </tr>\n",
       "    <tr>\n",
       "      <th>126984</th>\n",
       "      <td>2020-10-02</td>\n",
       "      <td>2020-10-02</td>\n",
       "      <td>16.4</td>\n",
       "      <td>7.5</td>\n",
       "      <td>66</td>\n",
       "      <td>44</td>\n",
       "      <td>Este</td>\n",
       "      <td>1021.50</td>\n",
       "      <td>1035204.0</td>\n",
       "      <td>0</td>\n",
       "      <td>1</td>\n",
       "      <td>0</td>\n",
       "      <td>0</td>\n",
       "      <td>0</td>\n",
       "      <td>0</td>\n",
       "      <td>0</td>\n",
       "      <td>0</td>\n",
       "      <td>903</td>\n",
       "      <td>871.0</td>\n",
       "    </tr>\n",
       "  </tbody>\n",
       "</table>\n",
       "<p>126985 rows × 19 columns</p>\n",
       "</div>"
      ],
      "text/plain": [
       "       fecha_toma_muestra      Fecha  tMax  tMin  Humedad  vVel   vDir  \\\n",
       "0              2020-02-16 2020-02-16  33.6  23.3       73    57  Calma   \n",
       "1              2020-03-01 2020-03-01  33.6  21.1       67    21  Calma   \n",
       "2              2020-03-03 2020-03-03  31.8  22.5       70    30  Norte   \n",
       "3              2020-03-04 2020-03-04  32.2  21.0       70    20  Calma   \n",
       "4              2020-03-05 2020-03-05  29.6  21.6       70    24  Norte   \n",
       "...                   ...        ...   ...   ...      ...   ...    ...   \n",
       "126980         2020-10-02 2020-10-02  16.4   7.5       66    44   Este   \n",
       "126981         2020-10-02 2020-10-02  16.4   7.5       66    44   Este   \n",
       "126982         2020-10-02 2020-10-02  16.4   7.5       66    44   Este   \n",
       "126983         2020-10-02 2020-10-02  16.4   7.5       66    44   Este   \n",
       "126984         2020-10-02 2020-10-02  16.4   7.5       66    44   Este   \n",
       "\n",
       "          pProm  pax_TOTAL  Calma  Este  Noreste  Norte  Oeste  Sudeste  \\\n",
       "0       1005.00   207806.0      1     0        0      0      0        0   \n",
       "1       1018.00  1186969.0      1     0        0      0      0        0   \n",
       "2       1015.20  1118806.0      0     0        0      1      0        0   \n",
       "3       1015.55  1135479.0      1     0        0      0      0        0   \n",
       "4       1017.00  1164013.0      0     0        0      1      0        0   \n",
       "...         ...        ...    ...   ...      ...    ...    ...      ...   \n",
       "126980  1021.50  1035204.0      0     1        0      0      0        0   \n",
       "126981  1021.50  1035204.0      0     1        0      0      0        0   \n",
       "126982  1021.50  1035204.0      0     1        0      0      0        0   \n",
       "126983  1021.50  1035204.0      0     1        0      0      0        0   \n",
       "126984  1021.50  1035204.0      0     1        0      0      0        0   \n",
       "\n",
       "        Sudoeste  Sur  clasificacion  Casos Día Anterior  \n",
       "0              0    0              1                 1.0  \n",
       "1              0    0              1                 1.0  \n",
       "2              0    0              1                 1.0  \n",
       "3              0    0              1                 1.0  \n",
       "4              0    0              4                 1.0  \n",
       "...          ...  ...            ...                 ...  \n",
       "126980         0    0            903               871.0  \n",
       "126981         0    0            903               871.0  \n",
       "126982         0    0            903               871.0  \n",
       "126983         0    0            903               871.0  \n",
       "126984         0    0            903               871.0  \n",
       "\n",
       "[126985 rows x 19 columns]"
      ]
     },
     "execution_count": 41,
     "metadata": {},
     "output_type": "execute_result"
    }
   ],
   "source": [
    "caba_regression_covid = caba_regression_covid.merge(covid_caba_casos, \n",
    "                                                    left_on=\"fecha_toma_muestra\", \n",
    "                                                    right_on=\"fecha_toma_muestra\", \n",
    "                                                    how=\"inner\")\n",
    "caba_regression_covid"
   ]
  },
  {
   "cell_type": "code",
   "execution_count": 42,
   "metadata": {},
   "outputs": [
    {
     "data": {
      "text/plain": [
       "False"
      ]
     },
     "execution_count": 42,
     "metadata": {},
     "output_type": "execute_result"
    }
   ],
   "source": [
    "covid_caba_casos.duplicated().any()"
   ]
  },
  {
   "cell_type": "markdown",
   "metadata": {},
   "source": [
    "#### Final Dataset"
   ]
  },
  {
   "cell_type": "code",
   "execution_count": 43,
   "metadata": {},
   "outputs": [],
   "source": [
    "caba_regression_final = caba_regression_covid[['fecha_toma_muestra',  'tMax', 'tMin', 'Humedad', 'vVel',\n",
    "       'pProm', 'Calma', 'Este', 'Noreste', 'Norte',\n",
    "       'Oeste', 'Sudeste', 'Sudoeste', 'Sur', 'pax_TOTAL',\n",
    "       'Casos Día Anterior', 'clasificacion']] "
   ]
  },
  {
   "cell_type": "code",
   "execution_count": 44,
   "metadata": {},
   "outputs": [],
   "source": [
    "\n",
    "caba_regression_final = caba_regression_final.drop_duplicates(subset=[\"fecha_toma_muestra\"], keep=\"first\")\n"
   ]
  },
  {
   "cell_type": "code",
   "execution_count": 45,
   "metadata": {},
   "outputs": [],
   "source": [
    "caba_regression_final = caba_regression_final.sort_values(by=\"fecha_toma_muestra\", ascending=True) "
   ]
  },
  {
   "cell_type": "code",
   "execution_count": 46,
   "metadata": {},
   "outputs": [],
   "source": [
    "#caba_regression_final = caba_regression_final[(caba_regression_final.fecha_toma_muestra < '2020-10-03')]\n",
    "caba_regression_final.dropna(inplace=True)"
   ]
  },
  {
   "cell_type": "code",
   "execution_count": 47,
   "metadata": {},
   "outputs": [
    {
     "data": {
      "text/html": [
       "<div>\n",
       "<style scoped>\n",
       "    .dataframe tbody tr th:only-of-type {\n",
       "        vertical-align: middle;\n",
       "    }\n",
       "\n",
       "    .dataframe tbody tr th {\n",
       "        vertical-align: top;\n",
       "    }\n",
       "\n",
       "    .dataframe thead th {\n",
       "        text-align: right;\n",
       "    }\n",
       "</style>\n",
       "<table border=\"1\" class=\"dataframe\">\n",
       "  <thead>\n",
       "    <tr style=\"text-align: right;\">\n",
       "      <th></th>\n",
       "      <th>fecha_toma_muestra</th>\n",
       "      <th>tMax</th>\n",
       "      <th>tMin</th>\n",
       "      <th>Humedad</th>\n",
       "      <th>vVel</th>\n",
       "      <th>pProm</th>\n",
       "      <th>Calma</th>\n",
       "      <th>Este</th>\n",
       "      <th>Noreste</th>\n",
       "      <th>Norte</th>\n",
       "      <th>Oeste</th>\n",
       "      <th>Sudeste</th>\n",
       "      <th>Sudoeste</th>\n",
       "      <th>Sur</th>\n",
       "      <th>pax_TOTAL</th>\n",
       "      <th>Casos Día Anterior</th>\n",
       "      <th>clasificacion</th>\n",
       "    </tr>\n",
       "  </thead>\n",
       "  <tbody>\n",
       "    <tr>\n",
       "      <th>0</th>\n",
       "      <td>2020-02-16</td>\n",
       "      <td>33.6</td>\n",
       "      <td>23</td>\n",
       "      <td>73</td>\n",
       "      <td>57</td>\n",
       "      <td>1005</td>\n",
       "      <td>1</td>\n",
       "      <td>0</td>\n",
       "      <td>0</td>\n",
       "      <td>0</td>\n",
       "      <td>0</td>\n",
       "      <td>0</td>\n",
       "      <td>0</td>\n",
       "      <td>0</td>\n",
       "      <td>207806.0</td>\n",
       "      <td>1</td>\n",
       "      <td>1</td>\n",
       "    </tr>\n",
       "    <tr>\n",
       "      <th>1</th>\n",
       "      <td>2020-03-01</td>\n",
       "      <td>33.6</td>\n",
       "      <td>21</td>\n",
       "      <td>67</td>\n",
       "      <td>21</td>\n",
       "      <td>1018</td>\n",
       "      <td>1</td>\n",
       "      <td>0</td>\n",
       "      <td>0</td>\n",
       "      <td>0</td>\n",
       "      <td>0</td>\n",
       "      <td>0</td>\n",
       "      <td>0</td>\n",
       "      <td>0</td>\n",
       "      <td>1186969.0</td>\n",
       "      <td>1</td>\n",
       "      <td>1</td>\n",
       "    </tr>\n",
       "    <tr>\n",
       "      <th>2</th>\n",
       "      <td>2020-03-03</td>\n",
       "      <td>31.8</td>\n",
       "      <td>22</td>\n",
       "      <td>70</td>\n",
       "      <td>30</td>\n",
       "      <td>1015</td>\n",
       "      <td>0</td>\n",
       "      <td>0</td>\n",
       "      <td>0</td>\n",
       "      <td>1</td>\n",
       "      <td>0</td>\n",
       "      <td>0</td>\n",
       "      <td>0</td>\n",
       "      <td>0</td>\n",
       "      <td>1118806.0</td>\n",
       "      <td>1</td>\n",
       "      <td>1</td>\n",
       "    </tr>\n",
       "    <tr>\n",
       "      <th>3</th>\n",
       "      <td>2020-03-04</td>\n",
       "      <td>32.2</td>\n",
       "      <td>21</td>\n",
       "      <td>70</td>\n",
       "      <td>20</td>\n",
       "      <td>1015</td>\n",
       "      <td>1</td>\n",
       "      <td>0</td>\n",
       "      <td>0</td>\n",
       "      <td>0</td>\n",
       "      <td>0</td>\n",
       "      <td>0</td>\n",
       "      <td>0</td>\n",
       "      <td>0</td>\n",
       "      <td>1135479.0</td>\n",
       "      <td>1</td>\n",
       "      <td>1</td>\n",
       "    </tr>\n",
       "    <tr>\n",
       "      <th>4</th>\n",
       "      <td>2020-03-05</td>\n",
       "      <td>29.6</td>\n",
       "      <td>21</td>\n",
       "      <td>70</td>\n",
       "      <td>24</td>\n",
       "      <td>1017</td>\n",
       "      <td>0</td>\n",
       "      <td>0</td>\n",
       "      <td>0</td>\n",
       "      <td>1</td>\n",
       "      <td>0</td>\n",
       "      <td>0</td>\n",
       "      <td>0</td>\n",
       "      <td>0</td>\n",
       "      <td>1164013.0</td>\n",
       "      <td>1</td>\n",
       "      <td>4</td>\n",
       "    </tr>\n",
       "    <tr>\n",
       "      <th>...</th>\n",
       "      <td>...</td>\n",
       "      <td>...</td>\n",
       "      <td>...</td>\n",
       "      <td>...</td>\n",
       "      <td>...</td>\n",
       "      <td>...</td>\n",
       "      <td>...</td>\n",
       "      <td>...</td>\n",
       "      <td>...</td>\n",
       "      <td>...</td>\n",
       "      <td>...</td>\n",
       "      <td>...</td>\n",
       "      <td>...</td>\n",
       "      <td>...</td>\n",
       "      <td>...</td>\n",
       "      <td>...</td>\n",
       "      <td>...</td>\n",
       "    </tr>\n",
       "    <tr>\n",
       "      <th>122515</th>\n",
       "      <td>2020-09-28</td>\n",
       "      <td>23.6</td>\n",
       "      <td>7</td>\n",
       "      <td>59</td>\n",
       "      <td>36</td>\n",
       "      <td>1010</td>\n",
       "      <td>0</td>\n",
       "      <td>0</td>\n",
       "      <td>0</td>\n",
       "      <td>0</td>\n",
       "      <td>0</td>\n",
       "      <td>0</td>\n",
       "      <td>1</td>\n",
       "      <td>0</td>\n",
       "      <td>84759.0</td>\n",
       "      <td>638</td>\n",
       "      <td>935</td>\n",
       "    </tr>\n",
       "    <tr>\n",
       "      <th>123428</th>\n",
       "      <td>2020-09-29</td>\n",
       "      <td>24.4</td>\n",
       "      <td>13</td>\n",
       "      <td>64</td>\n",
       "      <td>36</td>\n",
       "      <td>1008</td>\n",
       "      <td>0</td>\n",
       "      <td>0</td>\n",
       "      <td>0</td>\n",
       "      <td>1</td>\n",
       "      <td>0</td>\n",
       "      <td>0</td>\n",
       "      <td>0</td>\n",
       "      <td>0</td>\n",
       "      <td>92183.0</td>\n",
       "      <td>935</td>\n",
       "      <td>958</td>\n",
       "    </tr>\n",
       "    <tr>\n",
       "      <th>124343</th>\n",
       "      <td>2020-09-30</td>\n",
       "      <td>27.6</td>\n",
       "      <td>14</td>\n",
       "      <td>70</td>\n",
       "      <td>27</td>\n",
       "      <td>1004</td>\n",
       "      <td>0</td>\n",
       "      <td>0</td>\n",
       "      <td>0</td>\n",
       "      <td>1</td>\n",
       "      <td>0</td>\n",
       "      <td>0</td>\n",
       "      <td>0</td>\n",
       "      <td>0</td>\n",
       "      <td>91911.0</td>\n",
       "      <td>958</td>\n",
       "      <td>955</td>\n",
       "    </tr>\n",
       "    <tr>\n",
       "      <th>125266</th>\n",
       "      <td>2020-10-01</td>\n",
       "      <td>22.4</td>\n",
       "      <td>13</td>\n",
       "      <td>55</td>\n",
       "      <td>31</td>\n",
       "      <td>1009</td>\n",
       "      <td>0</td>\n",
       "      <td>0</td>\n",
       "      <td>0</td>\n",
       "      <td>0</td>\n",
       "      <td>0</td>\n",
       "      <td>0</td>\n",
       "      <td>0</td>\n",
       "      <td>1</td>\n",
       "      <td>991589.0</td>\n",
       "      <td>955</td>\n",
       "      <td>871</td>\n",
       "    </tr>\n",
       "    <tr>\n",
       "      <th>126105</th>\n",
       "      <td>2020-10-02</td>\n",
       "      <td>16.4</td>\n",
       "      <td>7</td>\n",
       "      <td>66</td>\n",
       "      <td>44</td>\n",
       "      <td>1021</td>\n",
       "      <td>0</td>\n",
       "      <td>1</td>\n",
       "      <td>0</td>\n",
       "      <td>0</td>\n",
       "      <td>0</td>\n",
       "      <td>0</td>\n",
       "      <td>0</td>\n",
       "      <td>0</td>\n",
       "      <td>1035204.0</td>\n",
       "      <td>871</td>\n",
       "      <td>903</td>\n",
       "    </tr>\n",
       "  </tbody>\n",
       "</table>\n",
       "<p>215 rows × 17 columns</p>\n",
       "</div>"
      ],
      "text/plain": [
       "       fecha_toma_muestra  tMax  tMin  Humedad  vVel  pProm  Calma  Este  \\\n",
       "0              2020-02-16  33.6    23       73    57   1005      1     0   \n",
       "1              2020-03-01  33.6    21       67    21   1018      1     0   \n",
       "2              2020-03-03  31.8    22       70    30   1015      0     0   \n",
       "3              2020-03-04  32.2    21       70    20   1015      1     0   \n",
       "4              2020-03-05  29.6    21       70    24   1017      0     0   \n",
       "...                   ...   ...   ...      ...   ...    ...    ...   ...   \n",
       "122515         2020-09-28  23.6     7       59    36   1010      0     0   \n",
       "123428         2020-09-29  24.4    13       64    36   1008      0     0   \n",
       "124343         2020-09-30  27.6    14       70    27   1004      0     0   \n",
       "125266         2020-10-01  22.4    13       55    31   1009      0     0   \n",
       "126105         2020-10-02  16.4     7       66    44   1021      0     1   \n",
       "\n",
       "        Noreste  Norte  Oeste  Sudeste  Sudoeste  Sur  pax_TOTAL  \\\n",
       "0             0      0      0        0         0    0   207806.0   \n",
       "1             0      0      0        0         0    0  1186969.0   \n",
       "2             0      1      0        0         0    0  1118806.0   \n",
       "3             0      0      0        0         0    0  1135479.0   \n",
       "4             0      1      0        0         0    0  1164013.0   \n",
       "...         ...    ...    ...      ...       ...  ...        ...   \n",
       "122515        0      0      0        0         1    0    84759.0   \n",
       "123428        0      1      0        0         0    0    92183.0   \n",
       "124343        0      1      0        0         0    0    91911.0   \n",
       "125266        0      0      0        0         0    1   991589.0   \n",
       "126105        0      0      0        0         0    0  1035204.0   \n",
       "\n",
       "        Casos Día Anterior  clasificacion  \n",
       "0                        1              1  \n",
       "1                        1              1  \n",
       "2                        1              1  \n",
       "3                        1              1  \n",
       "4                        1              4  \n",
       "...                    ...            ...  \n",
       "122515                 638            935  \n",
       "123428                 935            958  \n",
       "124343                 958            955  \n",
       "125266                 955            871  \n",
       "126105                 871            903  \n",
       "\n",
       "[215 rows x 17 columns]"
      ]
     },
     "execution_count": 47,
     "metadata": {},
     "output_type": "execute_result"
    }
   ],
   "source": [
    "caba_regression_final['Casos Día Anterior']=caba_regression_final['Casos Día Anterior'].astype('int64')\n",
    "caba_regression_final['tMin']=caba_regression_final['tMin'].astype('int64')\n",
    "caba_regression_final['pProm']=caba_regression_final['pProm'].astype('int64')\n",
    "caba_regression_final"
   ]
  },
  {
   "cell_type": "markdown",
   "metadata": {},
   "source": [
    "### Regression Model"
   ]
  },
  {
   "cell_type": "code",
   "execution_count": 48,
   "metadata": {},
   "outputs": [
    {
     "data": {
      "text/plain": [
       "(215, 1)"
      ]
     },
     "execution_count": 48,
     "metadata": {},
     "output_type": "execute_result"
    }
   ],
   "source": [
    "#y = np.array(caba_regression_final[[\"clasificacion\"]])\n",
    "y = caba_regression_final[[\"clasificacion\"]]\n",
    "y.shape\n"
   ]
  },
  {
   "cell_type": "code",
   "execution_count": 49,
   "metadata": {},
   "outputs": [
    {
     "data": {
      "text/plain": [
       "Index(['fecha_toma_muestra', 'tMax', 'tMin', 'Humedad', 'vVel', 'pProm',\n",
       "       'Calma', 'Este', 'Noreste', 'Norte', 'Oeste', 'Sudeste', 'Sudoeste',\n",
       "       'Sur', 'pax_TOTAL', 'Casos Día Anterior', 'clasificacion'],\n",
       "      dtype='object')"
      ]
     },
     "execution_count": 49,
     "metadata": {},
     "output_type": "execute_result"
    }
   ],
   "source": [
    "caba_regression_final.columns"
   ]
  },
  {
   "cell_type": "code",
   "execution_count": 50,
   "metadata": {},
   "outputs": [],
   "source": [
    "x = caba_regression_final[['tMax', 'tMin', 'Humedad', 'vVel', 'pProm',\n",
    "       'pax_TOTAL', 'Calma', 'Este', 'Noreste', 'Norte', 'Oeste', 'Sudeste',\n",
    "       'Sudoeste', 'Sur', 'Casos Día Anterior', \"pax_TOTAL\"]]\n",
    "                           "
   ]
  },
  {
   "cell_type": "code",
   "execution_count": 51,
   "metadata": {},
   "outputs": [],
   "source": [
    "xtrain, xtest, ytrain, ytest = train_test_split(x, y, test_size=0.20, random_state=42)\n",
    "#x_poly_train, x_poly_test = train_test_split(x, test_size=0.25, random_state=42)\n"
   ]
  },
  {
   "cell_type": "code",
   "execution_count": 52,
   "metadata": {},
   "outputs": [
    {
     "data": {
      "text/plain": [
       "(172, 16)"
      ]
     },
     "execution_count": 52,
     "metadata": {},
     "output_type": "execute_result"
    }
   ],
   "source": [
    "xtrain.shape"
   ]
  },
  {
   "cell_type": "code",
   "execution_count": 53,
   "metadata": {},
   "outputs": [
    {
     "data": {
      "text/plain": [
       "StandardScaler()"
      ]
     },
     "execution_count": 53,
     "metadata": {},
     "output_type": "execute_result"
    }
   ],
   "source": [
    "scaler = preprocessing.StandardScaler().fit(xtrain)\n",
    "scaler"
   ]
  },
  {
   "cell_type": "code",
   "execution_count": 54,
   "metadata": {},
   "outputs": [],
   "source": [
    "xtrain_scal = scaler.transform(xtrain)\n"
   ]
  },
  {
   "cell_type": "code",
   "execution_count": 55,
   "metadata": {},
   "outputs": [],
   "source": [
    "xtest_scal = scaler.transform(xtest)\n"
   ]
  },
  {
   "cell_type": "code",
   "execution_count": 56,
   "metadata": {},
   "outputs": [],
   "source": [
    "# Aqui estamos agregando las features polinomicas LUEGO de escalar los datos\n",
    "#grad_poly = 14\n",
    "#x_train_poly_scaled = PolynomialFeatures(grad_poly).fit_transform(xtrain_scal)\n",
    "#x_test_poly_scaled = PolynomialFeatures(grad_poly).fit_transform(xtest_scal)"
   ]
  },
  {
   "cell_type": "code",
   "execution_count": 57,
   "metadata": {},
   "outputs": [],
   "source": [
    "results = pd.DataFrame(columns=['Model','R2','MSE','MAE'])\n"
   ]
  },
  {
   "cell_type": "code",
   "execution_count": 58,
   "metadata": {},
   "outputs": [],
   "source": [
    "lr = LinearRegression()"
   ]
  },
  {
   "cell_type": "code",
   "execution_count": 59,
   "metadata": {},
   "outputs": [
    {
     "data": {
      "text/plain": [
       "LinearRegression()"
      ]
     },
     "execution_count": 59,
     "metadata": {},
     "output_type": "execute_result"
    }
   ],
   "source": [
    "lr.fit(xtrain_scal, ytrain)"
   ]
  },
  {
   "cell_type": "code",
   "execution_count": 60,
   "metadata": {},
   "outputs": [],
   "source": [
    "ypred = lr.predict(xtest_scal)"
   ]
  },
  {
   "cell_type": "code",
   "execution_count": 61,
   "metadata": {},
   "outputs": [
    {
     "data": {
      "text/plain": [
       "(43, 1)"
      ]
     },
     "execution_count": 61,
     "metadata": {},
     "output_type": "execute_result"
    }
   ],
   "source": [
    "ytest.shape"
   ]
  },
  {
   "cell_type": "code",
   "execution_count": 62,
   "metadata": {},
   "outputs": [
    {
     "data": {
      "text/plain": [
       "177.53311253020138"
      ]
     },
     "execution_count": 62,
     "metadata": {},
     "output_type": "execute_result"
    }
   ],
   "source": [
    "# calculo el error de mi modelo con las muestras de train = error de train\n",
    "np.sqrt(mean_squared_error(ytest, ypred))"
   ]
  },
  {
   "cell_type": "code",
   "execution_count": 63,
   "metadata": {},
   "outputs": [
    {
     "data": {
      "text/plain": [
       "31518.00604466115"
      ]
     },
     "execution_count": 63,
     "metadata": {},
     "output_type": "execute_result"
    }
   ],
   "source": [
    "mean_squared_error(ytest, ypred)"
   ]
  },
  {
   "cell_type": "code",
   "execution_count": 64,
   "metadata": {},
   "outputs": [
    {
     "data": {
      "text/plain": [
       "116.950733428867"
      ]
     },
     "execution_count": 64,
     "metadata": {},
     "output_type": "execute_result"
    }
   ],
   "source": [
    "mean_absolute_error(ytest, ypred)"
   ]
  },
  {
   "cell_type": "code",
   "execution_count": 65,
   "metadata": {},
   "outputs": [],
   "source": [
    "results = results.append({'Model':'Linear Regression',\n",
    "                                'R2':np.sqrt(mean_squared_error(ytest, ypred)),\n",
    "                                'MSE':mean_squared_error(ytest, ypred),\n",
    "                                'MAE':mean_absolute_error(ytest, ypred)},ignore_index=True)"
   ]
  },
  {
   "cell_type": "markdown",
   "metadata": {},
   "source": [
    "##### Support Vector Regression"
   ]
  },
  {
   "cell_type": "code",
   "execution_count": 66,
   "metadata": {},
   "outputs": [],
   "source": [
    "n_folds = 8 \n",
    "est = SVR(max_iter=20000)\n",
    "# Lista del parametro lambda (parametro 'alpha')\n",
    "parameters = {'C' : [0.1, 1, 10, 50, 100, 500, 2000,50000],\n",
    "              'gamma':[0.01, 0.05,0.1,0.5,1,10],\n",
    "            \"kernel\":[\"rbf\", \"gauss\"]}\n",
    "\n",
    "gs = GridSearchCV(est, param_grid=parameters,refit=True,\n",
    "                  cv=n_folds, scoring=\"neg_mean_squared_error\",\n",
    "                  verbose=5, n_jobs=5)"
   ]
  },
  {
   "cell_type": "code",
   "execution_count": 67,
   "metadata": {},
   "outputs": [
    {
     "name": "stdout",
     "output_type": "stream",
     "text": [
      "Fitting 8 folds for each of 96 candidates, totalling 768 fits\n"
     ]
    },
    {
     "name": "stderr",
     "output_type": "stream",
     "text": [
      "[Parallel(n_jobs=5)]: Using backend LokyBackend with 5 concurrent workers.\n",
      "[Parallel(n_jobs=5)]: Done   8 tasks      | elapsed:    1.2s\n",
      "[Parallel(n_jobs=5)]: Done 202 tasks      | elapsed:    1.5s\n",
      "[Parallel(n_jobs=5)]: Done 768 out of 768 | elapsed:    2.3s finished\n",
      "c:\\devapps\\python38\\lib\\site-packages\\sklearn\\utils\\validation.py:72: DataConversionWarning: A column-vector y was passed when a 1d array was expected. Please change the shape of y to (n_samples, ), for example using ravel().\n",
      "  return f(**kwargs)\n"
     ]
    },
    {
     "data": {
      "text/plain": [
       "GridSearchCV(cv=8, estimator=SVR(max_iter=20000), n_jobs=5,\n",
       "             param_grid={'C': [0.1, 1, 10, 50, 100, 500, 2000, 50000],\n",
       "                         'gamma': [0.01, 0.05, 0.1, 0.5, 1, 10],\n",
       "                         'kernel': ['rbf', 'gauss']},\n",
       "             scoring='neg_mean_squared_error', verbose=5)"
      ]
     },
     "execution_count": 67,
     "metadata": {},
     "output_type": "execute_result"
    }
   ],
   "source": [
    "gs.fit(xtrain_scal, ytrain)\n"
   ]
  },
  {
   "cell_type": "code",
   "execution_count": 68,
   "metadata": {},
   "outputs": [
    {
     "name": "stdout",
     "output_type": "stream",
     "text": [
      "SVR(C=2000, gamma=0.01, max_iter=20000) \n",
      "\n",
      "{'C': 2000, 'gamma': 0.01, 'kernel': 'rbf'} \n",
      "\n",
      "-23133.863860289246 \n",
      "\n"
     ]
    }
   ],
   "source": [
    "print(gs.best_estimator_, \"\\n\")\n",
    "print(gs.best_params_, \"\\n\")\n",
    "print(gs.best_score_, \"\\n\")"
   ]
  },
  {
   "cell_type": "code",
   "execution_count": 69,
   "metadata": {},
   "outputs": [],
   "source": [
    "svr_prediction = gs.best_estimator_.predict(xtest_scal)\n",
    "svr_r2 = r2_score(y_true=ytest, y_pred=svr_prediction)\n",
    "svr_mse = mean_squared_error(y_true=ytest, y_pred=svr_prediction)\n",
    "svr_mae = mean_absolute_error(y_true=ytest, y_pred=svr_prediction)"
   ]
  },
  {
   "cell_type": "code",
   "execution_count": 70,
   "metadata": {},
   "outputs": [
    {
     "name": "stdout",
     "output_type": "stream",
     "text": [
      "R2 score: 0.829941\n",
      "MSE: 39583.940697\n",
      "MAE: 129.987108\n"
     ]
    },
    {
     "data": {
      "image/png": "[encoded data removed]",
      "text/plain": [
       "<Figure size 432x288 with 1 Axes>"
      ]
     },
     "metadata": {
      "needs_background": "light"
     },
     "output_type": "display_data"
    }
   ],
   "source": [
    "plt.scatter(svr_prediction, ytest)\n",
    "plt.plot(np.arange(0,2000),np.arange(0,2000), 'r', label='SVR - Regression')\n",
    "plt.xlabel('Predicción de Casos Diarios')\n",
    "plt.ylabel('Casos Diarios - Valores Reales')\n",
    "plt.legend()\n",
    "print(f'R2 score: {svr_r2:.6f}')\n",
    "print(f'MSE: {svr_mse:.6f}')\n",
    "print(f'MAE: {svr_mae:.6f}')"
   ]
  },
  {
   "cell_type": "code",
   "execution_count": 71,
   "metadata": {},
   "outputs": [],
   "source": [
    "results = results.append({'Model':'SVR',\n",
    "                                'R2':svr_r2,\n",
    "                                'MSE':svr_mse,\n",
    "                                'MAE':svr_mae},ignore_index=True)"
   ]
  },
  {
   "cell_type": "markdown",
   "metadata": {},
   "source": [
    "##### KNN Regression"
   ]
  },
  {
   "cell_type": "code",
   "execution_count": 72,
   "metadata": {},
   "outputs": [],
   "source": [
    "n_folds = 10\n",
    "knn = KNeighborsRegressor()\n",
    "k_params = np.arange(0,100,2)\n",
    "knn_params = [{'n_neighbors': k_params}]\n",
    "\n",
    "gs = GridSearchCV(knn, param_grid=knn_params,refit=True,\n",
    "                  cv=n_folds, scoring=\"neg_mean_squared_error\",\n",
    "                  verbose=5, n_jobs=5)"
   ]
  },
  {
   "cell_type": "code",
   "execution_count": 73,
   "metadata": {},
   "outputs": [
    {
     "name": "stdout",
     "output_type": "stream",
     "text": [
      "Fitting 10 folds for each of 50 candidates, totalling 500 fits\n"
     ]
    },
    {
     "name": "stderr",
     "output_type": "stream",
     "text": [
      "[Parallel(n_jobs=5)]: Using backend LokyBackend with 5 concurrent workers.\n",
      "[Parallel(n_jobs=5)]: Done   8 tasks      | elapsed:    0.0s\n",
      "[Parallel(n_jobs=5)]: Done 477 tasks      | elapsed:    0.3s\n",
      "[Parallel(n_jobs=5)]: Done 500 out of 500 | elapsed:    0.4s finished\n"
     ]
    },
    {
     "data": {
      "text/plain": [
       "GridSearchCV(cv=10, estimator=KNeighborsRegressor(), n_jobs=5,\n",
       "             param_grid=[{'n_neighbors': array([ 0,  2,  4,  6,  8, 10, 12, 14, 16, 18, 20, 22, 24, 26, 28, 30, 32,\n",
       "       34, 36, 38, 40, 42, 44, 46, 48, 50, 52, 54, 56, 58, 60, 62, 64, 66,\n",
       "       68, 70, 72, 74, 76, 78, 80, 82, 84, 86, 88, 90, 92, 94, 96, 98])}],\n",
       "             scoring='neg_mean_squared_error', verbose=5)"
      ]
     },
     "execution_count": 73,
     "metadata": {},
     "output_type": "execute_result"
    }
   ],
   "source": [
    "gs.fit(xtrain_scal, ytrain)\n"
   ]
  },
  {
   "cell_type": "code",
   "execution_count": 74,
   "metadata": {},
   "outputs": [
    {
     "name": "stdout",
     "output_type": "stream",
     "text": [
      "KNeighborsRegressor(n_neighbors=8) \n",
      "\n",
      "{'n_neighbors': 8} \n",
      "\n",
      "-65605.0458129085 \n",
      "\n"
     ]
    }
   ],
   "source": [
    "print(gs.best_estimator_, \"\\n\")\n",
    "print(gs.best_params_, \"\\n\")\n",
    "print(gs.best_score_, \"\\n\")"
   ]
  },
  {
   "cell_type": "code",
   "execution_count": 75,
   "metadata": {},
   "outputs": [],
   "source": [
    "knn_prediction = gs.best_estimator_.predict(xtest_scal)\n",
    "knn_r2 = r2_score(y_true=ytest, y_pred=knn_prediction)\n",
    "knn_mse = mean_squared_error(y_true=ytest, y_pred=knn_prediction)\n",
    "knn_mae = mean_absolute_error(y_true=ytest, y_pred=knn_prediction)"
   ]
  },
  {
   "cell_type": "code",
   "execution_count": 76,
   "metadata": {},
   "outputs": [
    {
     "name": "stdout",
     "output_type": "stream",
     "text": [
      "R2 score: 0.698580\n",
      "MAE: 207.215116\n",
      "MSE: 70160.481831\n"
     ]
    },
    {
     "data": {
      "image/png": "[encoded data removed]",
      "text/plain": [
       "<Figure size 432x288 with 1 Axes>"
      ]
     },
     "metadata": {
      "needs_background": "light"
     },
     "output_type": "display_data"
    }
   ],
   "source": [
    "plt.scatter(knn_prediction, ytest)\n",
    "plt.plot(np.arange(0,2000),np.arange(0,2000), 'r', label='KNN Regression')\n",
    "plt.xlabel('Predicción de Casos Diarios')\n",
    "plt.ylabel('Casos Diarios - Valores Reales')\n",
    "plt.legend()\n",
    "print(f'R2 score: {knn_r2:.6f}')\n",
    "print(f'MAE: {knn_mae:.6f}')\n",
    "print(f'MSE: {knn_mse:.6f}')"
   ]
  },
  {
   "cell_type": "code",
   "execution_count": 77,
   "metadata": {},
   "outputs": [],
   "source": [
    "results = results.append({'Model':'KNN',\n",
    "                                'R2':knn_r2,\n",
    "                                'MSE':knn_mse,\n",
    "                                'MAE':knn_mae},ignore_index=True)\n"
   ]
  },
  {
   "cell_type": "markdown",
   "metadata": {},
   "source": [
    "##### Random Forest"
   ]
  },
  {
   "cell_type": "code",
   "execution_count": 78,
   "metadata": {},
   "outputs": [],
   "source": [
    "n_estimators=np.arange(10, 300, 10)\n",
    "n_folds=5\n",
    "rf = make_regression()\n",
    "\n",
    "params_rf = {\"n_estimators\": n_estimators}\n",
    "regr = RandomForestRegressor(max_depth=2, random_state=0)\n",
    "gs = GridSearchCV(regr, param_grid=params_rf,refit=True,\n",
    "                  cv=n_folds, scoring=\"neg_mean_squared_error\",\n",
    "                  verbose=5, n_jobs=5)"
   ]
  },
  {
   "cell_type": "code",
   "execution_count": 79,
   "metadata": {},
   "outputs": [
    {
     "name": "stdout",
     "output_type": "stream",
     "text": [
      "Fitting 5 folds for each of 29 candidates, totalling 145 fits\n"
     ]
    },
    {
     "name": "stderr",
     "output_type": "stream",
     "text": [
      "[Parallel(n_jobs=5)]: Using backend LokyBackend with 5 concurrent workers.\n",
      "[Parallel(n_jobs=5)]: Done   8 tasks      | elapsed:    0.0s\n",
      "[Parallel(n_jobs=5)]: Done 145 out of 145 | elapsed:    4.8s finished\n",
      "c:\\devapps\\python38\\lib\\site-packages\\sklearn\\model_selection\\_search.py:765: DataConversionWarning: A column-vector y was passed when a 1d array was expected. Please change the shape of y to (n_samples,), for example using ravel().\n",
      "  self.best_estimator_.fit(X, y, **fit_params)\n"
     ]
    },
    {
     "data": {
      "text/plain": [
       "GridSearchCV(cv=5, estimator=RandomForestRegressor(max_depth=2, random_state=0),\n",
       "             n_jobs=5,\n",
       "             param_grid={'n_estimators': array([ 10,  20,  30,  40,  50,  60,  70,  80,  90, 100, 110, 120, 130,\n",
       "       140, 150, 160, 170, 180, 190, 200, 210, 220, 230, 240, 250, 260,\n",
       "       270, 280, 290])},\n",
       "             scoring='neg_mean_squared_error', verbose=5)"
      ]
     },
     "execution_count": 79,
     "metadata": {},
     "output_type": "execute_result"
    }
   ],
   "source": [
    "gs.fit(xtrain_scal, ytrain)\n"
   ]
  },
  {
   "cell_type": "code",
   "execution_count": 80,
   "metadata": {},
   "outputs": [
    {
     "name": "stdout",
     "output_type": "stream",
     "text": [
      "RandomForestRegressor(max_depth=2, n_estimators=190, random_state=0) \n",
      "\n",
      "{'n_estimators': 190} \n",
      "\n",
      "-23934.065369146814 \n",
      "\n"
     ]
    }
   ],
   "source": [
    "print(gs.best_estimator_, \"\\n\")\n",
    "print(gs.best_params_, \"\\n\")\n",
    "print(gs.best_score_, \"\\n\")\n"
   ]
  },
  {
   "cell_type": "code",
   "execution_count": 81,
   "metadata": {},
   "outputs": [],
   "source": [
    "rf_prediction = gs.best_estimator_.predict(xtest_scal)\n",
    "rf_r2 = r2_score(y_true=ytest, y_pred=rf_prediction)\n",
    "rf_mse = mean_squared_error(y_true=ytest, y_pred=rf_prediction)\n",
    "rf_mae = mean_absolute_error(y_true=ytest, y_pred=rf_prediction)"
   ]
  },
  {
   "cell_type": "code",
   "execution_count": 82,
   "metadata": {},
   "outputs": [
    {
     "name": "stdout",
     "output_type": "stream",
     "text": [
      "R2 score: 0.884\n",
      "MAE: 116.550\n",
      "MSE: 27000.682\n"
     ]
    },
    {
     "data": {
      "image/png": "[encoded data removed]",
      "text/plain": [
       "<Figure size 432x288 with 1 Axes>"
      ]
     },
     "metadata": {
      "needs_background": "light"
     },
     "output_type": "display_data"
    }
   ],
   "source": [
    "plt.scatter(rf_prediction, ytest)\n",
    "plt.plot(np.arange(0,2000),np.arange(0,2000), 'r', label='RF Regression')\n",
    "plt.xlabel('Predicción de Casos Diarios')\n",
    "plt.ylabel('Casos Diarios - Valores Reales')\n",
    "plt.legend()\n",
    "print(f'R2 score: {rf_r2:.3f}')\n",
    "print(f'MAE: {rf_mae:.3f}')\n",
    "print(f'MSE: {rf_mse:.3f}')"
   ]
  },
  {
   "cell_type": "code",
   "execution_count": 83,
   "metadata": {},
   "outputs": [],
   "source": [
    "\n",
    "results = results.append({'Model':'Random Forest',\n",
    "                                'R2':rf_r2,\n",
    "                                'MSE':rf_mse,\n",
    "                                'MAE':rf_mae},ignore_index=True)"
   ]
  },
  {
   "cell_type": "code",
   "execution_count": 84,
   "metadata": {},
   "outputs": [
    {
     "data": {
      "text/html": [
       "<div>\n",
       "<style scoped>\n",
       "    .dataframe tbody tr th:only-of-type {\n",
       "        vertical-align: middle;\n",
       "    }\n",
       "\n",
       "    .dataframe tbody tr th {\n",
       "        vertical-align: top;\n",
       "    }\n",
       "\n",
       "    .dataframe thead th {\n",
       "        text-align: right;\n",
       "    }\n",
       "</style>\n",
       "<table border=\"1\" class=\"dataframe\">\n",
       "  <thead>\n",
       "    <tr style=\"text-align: right;\">\n",
       "      <th></th>\n",
       "      <th>Model</th>\n",
       "      <th>R2</th>\n",
       "      <th>MSE</th>\n",
       "      <th>MAE</th>\n",
       "    </tr>\n",
       "  </thead>\n",
       "  <tbody>\n",
       "    <tr>\n",
       "      <th>0</th>\n",
       "      <td>Linear Regression</td>\n",
       "      <td>177.533</td>\n",
       "      <td>31518.006</td>\n",
       "      <td>116.951</td>\n",
       "    </tr>\n",
       "    <tr>\n",
       "      <th>1</th>\n",
       "      <td>SVR</td>\n",
       "      <td>0.830</td>\n",
       "      <td>39583.941</td>\n",
       "      <td>129.987</td>\n",
       "    </tr>\n",
       "    <tr>\n",
       "      <th>2</th>\n",
       "      <td>KNN</td>\n",
       "      <td>0.699</td>\n",
       "      <td>70160.482</td>\n",
       "      <td>207.215</td>\n",
       "    </tr>\n",
       "    <tr>\n",
       "      <th>3</th>\n",
       "      <td>Random Forest</td>\n",
       "      <td>0.884</td>\n",
       "      <td>27000.682</td>\n",
       "      <td>116.550</td>\n",
       "    </tr>\n",
       "  </tbody>\n",
       "</table>\n",
       "</div>"
      ],
      "text/plain": [
       "               Model      R2       MSE     MAE\n",
       "0  Linear Regression 177.533 31518.006 116.951\n",
       "1                SVR   0.830 39583.941 129.987\n",
       "2                KNN   0.699 70160.482 207.215\n",
       "3      Random Forest   0.884 27000.682 116.550"
      ]
     },
     "metadata": {},
     "output_type": "display_data"
    }
   ],
   "source": [
    "pd.set_option('display.float_format', lambda x: '%.3f' % x) # Para acotar los decimales en pandas\n",
    "display(results)"
   ]
  },
  {
   "cell_type": "markdown",
   "metadata": {},
   "source": [
    "### Regression Model \n",
    "\n",
    "#### without considering cases from the day before"
   ]
  },
  {
   "cell_type": "code",
   "execution_count": 85,
   "metadata": {},
   "outputs": [],
   "source": [
    "caba_regression_final_2 = caba_regression_covid[['fecha_toma_muestra',  'tMax', 'tMin', 'Humedad', 'vVel',\n",
    "       'pProm', 'Calma', 'Este', 'Noreste', 'Norte',\n",
    "       'Oeste', 'Sudeste', 'Sudoeste', 'Sur', 'pax_TOTAL',\n",
    "       'clasificacion']] "
   ]
  },
  {
   "cell_type": "code",
   "execution_count": 86,
   "metadata": {},
   "outputs": [
    {
     "data": {
      "text/html": [
       "<div>\n",
       "<style scoped>\n",
       "    .dataframe tbody tr th:only-of-type {\n",
       "        vertical-align: middle;\n",
       "    }\n",
       "\n",
       "    .dataframe tbody tr th {\n",
       "        vertical-align: top;\n",
       "    }\n",
       "\n",
       "    .dataframe thead th {\n",
       "        text-align: right;\n",
       "    }\n",
       "</style>\n",
       "<table border=\"1\" class=\"dataframe\">\n",
       "  <thead>\n",
       "    <tr style=\"text-align: right;\">\n",
       "      <th></th>\n",
       "      <th>fecha_toma_muestra</th>\n",
       "      <th>tMax</th>\n",
       "      <th>tMin</th>\n",
       "      <th>Humedad</th>\n",
       "      <th>vVel</th>\n",
       "      <th>pProm</th>\n",
       "      <th>Calma</th>\n",
       "      <th>Este</th>\n",
       "      <th>Noreste</th>\n",
       "      <th>Norte</th>\n",
       "      <th>Oeste</th>\n",
       "      <th>Sudeste</th>\n",
       "      <th>Sudoeste</th>\n",
       "      <th>Sur</th>\n",
       "      <th>pax_TOTAL</th>\n",
       "      <th>clasificacion</th>\n",
       "    </tr>\n",
       "  </thead>\n",
       "  <tbody>\n",
       "    <tr>\n",
       "      <th>0</th>\n",
       "      <td>2020-02-16</td>\n",
       "      <td>33.600</td>\n",
       "      <td>23.300</td>\n",
       "      <td>73</td>\n",
       "      <td>57</td>\n",
       "      <td>1005.000</td>\n",
       "      <td>1</td>\n",
       "      <td>0</td>\n",
       "      <td>0</td>\n",
       "      <td>0</td>\n",
       "      <td>0</td>\n",
       "      <td>0</td>\n",
       "      <td>0</td>\n",
       "      <td>0</td>\n",
       "      <td>207806.000</td>\n",
       "      <td>1</td>\n",
       "    </tr>\n",
       "    <tr>\n",
       "      <th>1</th>\n",
       "      <td>2020-03-01</td>\n",
       "      <td>33.600</td>\n",
       "      <td>21.100</td>\n",
       "      <td>67</td>\n",
       "      <td>21</td>\n",
       "      <td>1018.000</td>\n",
       "      <td>1</td>\n",
       "      <td>0</td>\n",
       "      <td>0</td>\n",
       "      <td>0</td>\n",
       "      <td>0</td>\n",
       "      <td>0</td>\n",
       "      <td>0</td>\n",
       "      <td>0</td>\n",
       "      <td>1186969.000</td>\n",
       "      <td>1</td>\n",
       "    </tr>\n",
       "    <tr>\n",
       "      <th>2</th>\n",
       "      <td>2020-03-03</td>\n",
       "      <td>31.800</td>\n",
       "      <td>22.500</td>\n",
       "      <td>70</td>\n",
       "      <td>30</td>\n",
       "      <td>1015.200</td>\n",
       "      <td>0</td>\n",
       "      <td>0</td>\n",
       "      <td>0</td>\n",
       "      <td>1</td>\n",
       "      <td>0</td>\n",
       "      <td>0</td>\n",
       "      <td>0</td>\n",
       "      <td>0</td>\n",
       "      <td>1118806.000</td>\n",
       "      <td>1</td>\n",
       "    </tr>\n",
       "    <tr>\n",
       "      <th>3</th>\n",
       "      <td>2020-03-04</td>\n",
       "      <td>32.200</td>\n",
       "      <td>21.000</td>\n",
       "      <td>70</td>\n",
       "      <td>20</td>\n",
       "      <td>1015.550</td>\n",
       "      <td>1</td>\n",
       "      <td>0</td>\n",
       "      <td>0</td>\n",
       "      <td>0</td>\n",
       "      <td>0</td>\n",
       "      <td>0</td>\n",
       "      <td>0</td>\n",
       "      <td>0</td>\n",
       "      <td>1135479.000</td>\n",
       "      <td>1</td>\n",
       "    </tr>\n",
       "    <tr>\n",
       "      <th>4</th>\n",
       "      <td>2020-03-05</td>\n",
       "      <td>29.600</td>\n",
       "      <td>21.600</td>\n",
       "      <td>70</td>\n",
       "      <td>24</td>\n",
       "      <td>1017.000</td>\n",
       "      <td>0</td>\n",
       "      <td>0</td>\n",
       "      <td>0</td>\n",
       "      <td>1</td>\n",
       "      <td>0</td>\n",
       "      <td>0</td>\n",
       "      <td>0</td>\n",
       "      <td>0</td>\n",
       "      <td>1164013.000</td>\n",
       "      <td>4</td>\n",
       "    </tr>\n",
       "    <tr>\n",
       "      <th>...</th>\n",
       "      <td>...</td>\n",
       "      <td>...</td>\n",
       "      <td>...</td>\n",
       "      <td>...</td>\n",
       "      <td>...</td>\n",
       "      <td>...</td>\n",
       "      <td>...</td>\n",
       "      <td>...</td>\n",
       "      <td>...</td>\n",
       "      <td>...</td>\n",
       "      <td>...</td>\n",
       "      <td>...</td>\n",
       "      <td>...</td>\n",
       "      <td>...</td>\n",
       "      <td>...</td>\n",
       "      <td>...</td>\n",
       "    </tr>\n",
       "    <tr>\n",
       "      <th>122515</th>\n",
       "      <td>2020-09-28</td>\n",
       "      <td>23.600</td>\n",
       "      <td>7.300</td>\n",
       "      <td>59</td>\n",
       "      <td>36</td>\n",
       "      <td>1010.300</td>\n",
       "      <td>0</td>\n",
       "      <td>0</td>\n",
       "      <td>0</td>\n",
       "      <td>0</td>\n",
       "      <td>0</td>\n",
       "      <td>0</td>\n",
       "      <td>1</td>\n",
       "      <td>0</td>\n",
       "      <td>84759.000</td>\n",
       "      <td>935</td>\n",
       "    </tr>\n",
       "    <tr>\n",
       "      <th>123428</th>\n",
       "      <td>2020-09-29</td>\n",
       "      <td>24.400</td>\n",
       "      <td>13.900</td>\n",
       "      <td>64</td>\n",
       "      <td>36</td>\n",
       "      <td>1008.850</td>\n",
       "      <td>0</td>\n",
       "      <td>0</td>\n",
       "      <td>0</td>\n",
       "      <td>1</td>\n",
       "      <td>0</td>\n",
       "      <td>0</td>\n",
       "      <td>0</td>\n",
       "      <td>0</td>\n",
       "      <td>92183.000</td>\n",
       "      <td>958</td>\n",
       "    </tr>\n",
       "    <tr>\n",
       "      <th>124343</th>\n",
       "      <td>2020-09-30</td>\n",
       "      <td>27.600</td>\n",
       "      <td>14.900</td>\n",
       "      <td>70</td>\n",
       "      <td>27</td>\n",
       "      <td>1004.850</td>\n",
       "      <td>0</td>\n",
       "      <td>0</td>\n",
       "      <td>0</td>\n",
       "      <td>1</td>\n",
       "      <td>0</td>\n",
       "      <td>0</td>\n",
       "      <td>0</td>\n",
       "      <td>0</td>\n",
       "      <td>91911.000</td>\n",
       "      <td>955</td>\n",
       "    </tr>\n",
       "    <tr>\n",
       "      <th>125266</th>\n",
       "      <td>2020-10-01</td>\n",
       "      <td>22.400</td>\n",
       "      <td>13.400</td>\n",
       "      <td>55</td>\n",
       "      <td>31</td>\n",
       "      <td>1009.300</td>\n",
       "      <td>0</td>\n",
       "      <td>0</td>\n",
       "      <td>0</td>\n",
       "      <td>0</td>\n",
       "      <td>0</td>\n",
       "      <td>0</td>\n",
       "      <td>0</td>\n",
       "      <td>1</td>\n",
       "      <td>991589.000</td>\n",
       "      <td>871</td>\n",
       "    </tr>\n",
       "    <tr>\n",
       "      <th>126105</th>\n",
       "      <td>2020-10-02</td>\n",
       "      <td>16.400</td>\n",
       "      <td>7.500</td>\n",
       "      <td>66</td>\n",
       "      <td>44</td>\n",
       "      <td>1021.500</td>\n",
       "      <td>0</td>\n",
       "      <td>1</td>\n",
       "      <td>0</td>\n",
       "      <td>0</td>\n",
       "      <td>0</td>\n",
       "      <td>0</td>\n",
       "      <td>0</td>\n",
       "      <td>0</td>\n",
       "      <td>1035204.000</td>\n",
       "      <td>903</td>\n",
       "    </tr>\n",
       "  </tbody>\n",
       "</table>\n",
       "<p>215 rows × 16 columns</p>\n",
       "</div>"
      ],
      "text/plain": [
       "       fecha_toma_muestra   tMax   tMin  Humedad  vVel    pProm  Calma  Este  \\\n",
       "0              2020-02-16 33.600 23.300       73    57 1005.000      1     0   \n",
       "1              2020-03-01 33.600 21.100       67    21 1018.000      1     0   \n",
       "2              2020-03-03 31.800 22.500       70    30 1015.200      0     0   \n",
       "3              2020-03-04 32.200 21.000       70    20 1015.550      1     0   \n",
       "4              2020-03-05 29.600 21.600       70    24 1017.000      0     0   \n",
       "...                   ...    ...    ...      ...   ...      ...    ...   ...   \n",
       "122515         2020-09-28 23.600  7.300       59    36 1010.300      0     0   \n",
       "123428         2020-09-29 24.400 13.900       64    36 1008.850      0     0   \n",
       "124343         2020-09-30 27.600 14.900       70    27 1004.850      0     0   \n",
       "125266         2020-10-01 22.400 13.400       55    31 1009.300      0     0   \n",
       "126105         2020-10-02 16.400  7.500       66    44 1021.500      0     1   \n",
       "\n",
       "        Noreste  Norte  Oeste  Sudeste  Sudoeste  Sur   pax_TOTAL  \\\n",
       "0             0      0      0        0         0    0  207806.000   \n",
       "1             0      0      0        0         0    0 1186969.000   \n",
       "2             0      1      0        0         0    0 1118806.000   \n",
       "3             0      0      0        0         0    0 1135479.000   \n",
       "4             0      1      0        0         0    0 1164013.000   \n",
       "...         ...    ...    ...      ...       ...  ...         ...   \n",
       "122515        0      0      0        0         1    0   84759.000   \n",
       "123428        0      1      0        0         0    0   92183.000   \n",
       "124343        0      1      0        0         0    0   91911.000   \n",
       "125266        0      0      0        0         0    1  991589.000   \n",
       "126105        0      0      0        0         0    0 1035204.000   \n",
       "\n",
       "        clasificacion  \n",
       "0                   1  \n",
       "1                   1  \n",
       "2                   1  \n",
       "3                   1  \n",
       "4                   4  \n",
       "...               ...  \n",
       "122515            935  \n",
       "123428            958  \n",
       "124343            955  \n",
       "125266            871  \n",
       "126105            903  \n",
       "\n",
       "[215 rows x 16 columns]"
      ]
     },
     "execution_count": 86,
     "metadata": {},
     "output_type": "execute_result"
    }
   ],
   "source": [
    "caba_regression_final_2 = caba_regression_final_2.drop_duplicates(subset=[\"fecha_toma_muestra\"], keep=\"first\")\n",
    "caba_regression_final_2"
   ]
  },
  {
   "cell_type": "code",
   "execution_count": 87,
   "metadata": {},
   "outputs": [],
   "source": [
    "y2 = caba_regression_final_2[[\"clasificacion\"]]\n"
   ]
  },
  {
   "cell_type": "code",
   "execution_count": 88,
   "metadata": {},
   "outputs": [
    {
     "data": {
      "text/plain": [
       "Index(['fecha_toma_muestra', 'tMax', 'tMin', 'Humedad', 'vVel', 'pProm',\n",
       "       'Calma', 'Este', 'Noreste', 'Norte', 'Oeste', 'Sudeste', 'Sudoeste',\n",
       "       'Sur', 'pax_TOTAL', 'clasificacion'],\n",
       "      dtype='object')"
      ]
     },
     "execution_count": 88,
     "metadata": {},
     "output_type": "execute_result"
    }
   ],
   "source": [
    "caba_regression_final_2.columns"
   ]
  },
  {
   "cell_type": "code",
   "execution_count": 89,
   "metadata": {},
   "outputs": [],
   "source": [
    "x2 = caba_regression_final_2[['tMax', 'tMin', 'Humedad', 'vVel', 'pProm',\n",
    "       'pax_TOTAL', 'Calma', 'Este', 'Noreste', 'Norte', 'Oeste', 'Sudeste',\n",
    "       'Sudoeste', 'Sur', \"pax_TOTAL\"]]"
   ]
  },
  {
   "cell_type": "code",
   "execution_count": 90,
   "metadata": {},
   "outputs": [],
   "source": [
    "xtrain2, xtest2, ytrain2, ytest2 = train_test_split(x2, y2, test_size=0.20, random_state=42)\n"
   ]
  },
  {
   "cell_type": "code",
   "execution_count": 91,
   "metadata": {},
   "outputs": [
    {
     "data": {
      "text/plain": [
       "StandardScaler()"
      ]
     },
     "execution_count": 91,
     "metadata": {},
     "output_type": "execute_result"
    }
   ],
   "source": [
    "scaler = preprocessing.StandardScaler().fit(xtrain2)\n",
    "scaler"
   ]
  },
  {
   "cell_type": "code",
   "execution_count": 92,
   "metadata": {},
   "outputs": [],
   "source": [
    "xtrain2_scal = scaler.transform(xtrain2)\n"
   ]
  },
  {
   "cell_type": "code",
   "execution_count": 93,
   "metadata": {},
   "outputs": [],
   "source": [
    "xtest2_scal = scaler.transform(xtest2)\n"
   ]
  },
  {
   "cell_type": "code",
   "execution_count": 94,
   "metadata": {},
   "outputs": [],
   "source": [
    "results2 = pd.DataFrame(columns=['Model','R2','MSE','MAE'])\n"
   ]
  },
  {
   "cell_type": "code",
   "execution_count": 95,
   "metadata": {},
   "outputs": [],
   "source": [
    "lr = LinearRegression()"
   ]
  },
  {
   "cell_type": "code",
   "execution_count": 96,
   "metadata": {},
   "outputs": [
    {
     "data": {
      "text/plain": [
       "LinearRegression()"
      ]
     },
     "execution_count": 96,
     "metadata": {},
     "output_type": "execute_result"
    }
   ],
   "source": [
    "lr.fit(xtrain2_scal, ytrain2)"
   ]
  },
  {
   "cell_type": "code",
   "execution_count": 97,
   "metadata": {},
   "outputs": [],
   "source": [
    "ypred2 = lr.predict(xtest2_scal)"
   ]
  },
  {
   "cell_type": "code",
   "execution_count": 98,
   "metadata": {},
   "outputs": [
    {
     "data": {
      "text/plain": [
       "400.7890539311179"
      ]
     },
     "execution_count": 98,
     "metadata": {},
     "output_type": "execute_result"
    }
   ],
   "source": [
    "np.sqrt(mean_squared_error(ytest2, ypred2))"
   ]
  },
  {
   "cell_type": "code",
   "execution_count": 99,
   "metadata": {},
   "outputs": [
    {
     "data": {
      "text/plain": [
       "160631.86575100053"
      ]
     },
     "execution_count": 99,
     "metadata": {},
     "output_type": "execute_result"
    }
   ],
   "source": [
    "mean_squared_error(ytest2, ypred2)"
   ]
  },
  {
   "cell_type": "markdown",
   "metadata": {},
   "source": [
    "##### Support Vector Regression \n",
    "##### without considering cases from the day before"
   ]
  },
  {
   "cell_type": "code",
   "execution_count": 100,
   "metadata": {},
   "outputs": [],
   "source": [
    "n_folds = 8\n",
    "est = SVR(max_iter=20000)\n",
    "# Lista del parametro lambda (parametro 'alpha')\n",
    "parameters = {'C' : [0.1, 1, 10, 50, 100, 500, 2000,50000],\n",
    "              'gamma':[0.01, 0.05,0.1,0.5,1,10],\n",
    "            \"kernel\":[\"rbf\", \"gauss\"]}\n",
    "\n",
    "gs2 = GridSearchCV(est, param_grid=parameters,refit=True,\n",
    "                  cv=n_folds, scoring=\"neg_mean_squared_error\",\n",
    "                  verbose=5, n_jobs=5)"
   ]
  },
  {
   "cell_type": "code",
   "execution_count": 101,
   "metadata": {},
   "outputs": [
    {
     "name": "stdout",
     "output_type": "stream",
     "text": [
      "Fitting 8 folds for each of 96 candidates, totalling 768 fits\n"
     ]
    },
    {
     "name": "stderr",
     "output_type": "stream",
     "text": [
      "[Parallel(n_jobs=5)]: Using backend LokyBackend with 5 concurrent workers.\n",
      "[Parallel(n_jobs=5)]: Done   8 tasks      | elapsed:    0.0s\n",
      "[Parallel(n_jobs=5)]: Done 544 tasks      | elapsed:    0.3s\n",
      "[Parallel(n_jobs=5)]: Done 768 out of 768 | elapsed:    0.4s finished\n",
      "c:\\devapps\\python38\\lib\\site-packages\\sklearn\\utils\\validation.py:72: DataConversionWarning: A column-vector y was passed when a 1d array was expected. Please change the shape of y to (n_samples, ), for example using ravel().\n",
      "  return f(**kwargs)\n"
     ]
    },
    {
     "data": {
      "text/plain": [
       "GridSearchCV(cv=8, estimator=SVR(max_iter=20000), n_jobs=5,\n",
       "             param_grid={'C': [0.1, 1, 10, 50, 100, 500, 2000, 50000],\n",
       "                         'gamma': [0.01, 0.05, 0.1, 0.5, 1, 10],\n",
       "                         'kernel': ['rbf', 'gauss']},\n",
       "             scoring='neg_mean_squared_error', verbose=5)"
      ]
     },
     "execution_count": 101,
     "metadata": {},
     "output_type": "execute_result"
    }
   ],
   "source": [
    "gs2.fit(xtrain2_scal, ytrain2)\n"
   ]
  },
  {
   "cell_type": "code",
   "execution_count": 102,
   "metadata": {},
   "outputs": [
    {
     "name": "stdout",
     "output_type": "stream",
     "text": [
      "SVR(C=2000, gamma=0.01, max_iter=20000) \n",
      "\n",
      "{'C': 2000, 'gamma': 0.01, 'kernel': 'rbf'} \n",
      "\n",
      "-164521.4922478879 \n",
      "\n"
     ]
    }
   ],
   "source": [
    "print(gs2.best_estimator_, \"\\n\")\n",
    "print(gs2.best_params_, \"\\n\")\n",
    "print(gs2.best_score_, \"\\n\")"
   ]
  },
  {
   "cell_type": "code",
   "execution_count": 103,
   "metadata": {},
   "outputs": [],
   "source": [
    "svr2_prediction = gs2.best_estimator_.predict(xtest2_scal)\n",
    "svr2_r2 = r2_score(y_true=ytest2, y_pred=svr2_prediction)\n",
    "svr2_mse = mean_squared_error(y_true=ytest2, y_pred=svr2_prediction)\n",
    "svr2_mae = mean_absolute_error(y_true=ytest2, y_pred=svr2_prediction)"
   ]
  },
  {
   "cell_type": "code",
   "execution_count": 104,
   "metadata": {},
   "outputs": [
    {
     "name": "stdout",
     "output_type": "stream",
     "text": [
      "R2 score: 0.221004\n",
      "MSE: 181323.888332\n",
      "MAE: 347.479334\n"
     ]
    },
    {
     "data": {
      "image/png": "[encoded data removed]",
      "text/plain": [
       "<Figure size 432x288 with 1 Axes>"
      ]
     },
     "metadata": {
      "needs_background": "light"
     },
     "output_type": "display_data"
    }
   ],
   "source": [
    "plt.scatter(svr2_prediction, ytest2)\n",
    "plt.plot(np.arange(0,2000),np.arange(0,2000), 'r', label='SVR - Regression')\n",
    "plt.xlabel('Predicción de Casos Diarios')\n",
    "plt.ylabel('Casos Diarios - Valores Reales')\n",
    "plt.legend()\n",
    "print(f'R2 score: {svr2_r2:.6f}')\n",
    "print(f'MSE: {svr2_mse:.6f}')\n",
    "print(f'MAE: {svr2_mae:.6f}')"
   ]
  },
  {
   "cell_type": "code",
   "execution_count": null,
   "metadata": {},
   "outputs": [],
   "source": []
  }
 ],
 "metadata": {
  "kernelspec": {
   "display_name": "Python 3",
   "language": "python",
   "name": "python3"
  },
  "language_info": {
   "codemirror_mode": {
    "name": "ipython",
    "version": 3
   },
   "file_extension": ".py",
   "mimetype": "text/x-python",
   "name": "python",
   "nbconvert_exporter": "python",
   "pygments_lexer": "ipython3",
   "version": "3.8.6"
  }
 },
 "nbformat": 4,
 "nbformat_minor": 4
}
